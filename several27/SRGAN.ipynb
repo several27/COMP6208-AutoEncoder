{
 "cells": [
  {
   "cell_type": "code",
   "execution_count": 1,
   "metadata": {},
   "outputs": [
    {
     "name": "stderr",
     "output_type": "stream",
     "text": [
      "Using TensorFlow backend.\n"
     ]
    }
   ],
   "source": [
    "import os\n",
    "\n",
    "import numpy as np\n",
    "from PIL import Image\n",
    "from tqdm import tqdm \n",
    "import matplotlib.pyplot as plt\n",
    "import matplotlib.image as mpimg\n",
    "from skimage import img_as_float\n",
    "from skimage.transform import resize\n",
    "from sklearn.model_selection import train_test_split\n",
    "import tensorflow as tf\n",
    "from keras import backend as K\n",
    "from keras.models import Model\n",
    "from keras.utils import conv_utils\n",
    "from keras.engine.topology import Layer\n",
    "from keras.datasets import mnist, cifar10\n",
    "from keras.callbacks import TensorBoard, ModelCheckpoint\n",
    "from keras.preprocessing.image import ImageDataGenerator\n",
    "from keras.layers import Input, Conv2D, PReLU, BatchNormalization, Add"
   ]
  },
  {
   "cell_type": "code",
   "execution_count": 2,
   "metadata": {},
   "outputs": [],
   "source": [
    "path_data = '/home/ubuntu/COMP6208-AutoEncoder/several27/data/'\n",
    "path_open_images_560_420 = path_data + 'open_images_560_420/'\n",
    "path_open_images_560_420_train = path_data + 'open_images_560_420_train/'\n",
    "path_open_images_560_420_val = path_data + 'open_images_560_420_val/'"
   ]
  },
  {
   "cell_type": "markdown",
   "metadata": {},
   "source": [
    "# Data preprocessing"
   ]
  },
  {
   "cell_type": "markdown",
   "metadata": {},
   "source": [
    "## Load CIFAR"
   ]
  },
  {
   "cell_type": "code",
   "execution_count": null,
   "metadata": {},
   "outputs": [],
   "source": [
    "(x_train, y_train), (x_test, y_test) = cifar10.load_data()\n",
    "x_train.shape, y_train.shape"
   ]
  },
  {
   "cell_type": "code",
   "execution_count": null,
   "metadata": {},
   "outputs": [],
   "source": [
    "for i in range(10):\n",
    "    plt.subplot(2, 5, i + 1)\n",
    "    plt.imshow(x_train[i])\n",
    "    \n",
    "plt.show()"
   ]
  },
  {
   "cell_type": "markdown",
   "metadata": {},
   "source": [
    "## Prepare LR CIFAR"
   ]
  },
  {
   "cell_type": "code",
   "execution_count": null,
   "metadata": {},
   "outputs": [],
   "source": [
    "x_train.shape"
   ]
  },
  {
   "cell_type": "code",
   "execution_count": null,
   "metadata": {},
   "outputs": [],
   "source": [
    "def images_resize(images, ratio):\n",
    "    lr_width = images.shape[1] // ratio\n",
    "    lr_height = images.shape[2] // ratio\n",
    "    resized = np.zeros((images.shape[0], lr_width, lr_height, images.shape[3]))\n",
    "    for i in tqdm(range(images.shape[0])):\n",
    "        resized[i] = resize(images[i], (lr_width, lr_height))\n",
    "        \n",
    "    return resized"
   ]
  },
  {
   "cell_type": "code",
   "execution_count": null,
   "metadata": {
    "scrolled": true
   },
   "outputs": [],
   "source": [
    "x_train_lr = images_resize(x_train, 4)\n",
    "x_test_lr = images_resize(x_test, 4)"
   ]
  },
  {
   "cell_type": "code",
   "execution_count": null,
   "metadata": {},
   "outputs": [],
   "source": [
    "x_train_lr.shape"
   ]
  },
  {
   "cell_type": "code",
   "execution_count": null,
   "metadata": {},
   "outputs": [],
   "source": [
    "for i in range(10):\n",
    "    plt.subplot(2, 5, i + 1)\n",
    "    plt.imshow(x_train_lr[i])\n",
    "    \n",
    "plt.show()"
   ]
  },
  {
   "cell_type": "markdown",
   "metadata": {},
   "source": [
    "## open_images_560_420 generator (or rather 420*560 ugh)"
   ]
  },
  {
   "cell_type": "code",
   "execution_count": 3,
   "metadata": {},
   "outputs": [],
   "source": [
    "def generator_images(path, size=(420, 560, 3), ratio=2, batch_size=32):\n",
    "    lr_height, lr_width = size[0] // ratio, size[1] // ratio\n",
    "    \n",
    "    batch_i = 0\n",
    "    batch = np.zeros((batch_size, size[0], size[1], size[2]))\n",
    "    batch_scaled = np.zeros((batch_size, lr_height, lr_width, size[2]))\n",
    "    \n",
    "    while True:\n",
    "        for file in os.listdir(path):\n",
    "            if not file.endswith('.jpg'):\n",
    "                continue \n",
    "            \n",
    "            if batch_i == batch_size:\n",
    "                yield batch_scaled, batch\n",
    "                \n",
    "                batch_i = 0\n",
    "                batch = np.zeros((batch_size, size[0], size[1], size[2]))\n",
    "                batch_scaled = np.zeros((batch_size, lr_height, lr_width, size[2]))\n",
    "            \n",
    "            file_path = path + file\n",
    "            img = img_as_float(Image.open(file_path))\n",
    "            \n",
    "            batch[batch_i] = img\n",
    "            batch_scaled[batch_i] = resize(img, (lr_height, lr_width))\n",
    "            \n",
    "            batch_i += 1"
   ]
  },
  {
   "cell_type": "code",
   "execution_count": 4,
   "metadata": {},
   "outputs": [],
   "source": [
    "def count_images(path):\n",
    "    return sum([1 for file in os.listdir(path) if file.endswith('.jpg')])"
   ]
  },
  {
   "cell_type": "code",
   "execution_count": 5,
   "metadata": {},
   "outputs": [
    {
     "data": {
      "text/plain": [
       "(39612, 4402)"
      ]
     },
     "execution_count": 5,
     "metadata": {},
     "output_type": "execute_result"
    }
   ],
   "source": [
    "count_images(path_open_images_560_420_train), count_images(path_open_images_560_420_val)"
   ]
  },
  {
   "cell_type": "markdown",
   "metadata": {},
   "source": [
    "# Network description "
   ]
  },
  {
   "cell_type": "markdown",
   "metadata": {},
   "source": [
    "![](srgan_architecture.png)"
   ]
  },
  {
   "cell_type": "markdown",
   "metadata": {},
   "source": [
    "## Generator network\n",
    "\n",
    "1. Input - Image LR\n",
    "2. Conv, kernel 3x3, 64 feature maps, what's s1?\n",
    "3. ParametricReLU\n",
    "4. B=16 residual blocks\n",
    "    1. Conv with 3x3 kernel, 64 feature maps and stride 1\n",
    "    2. Batch Normalization (https://keras.io/layers/normalization/)\n",
    "    3. ParametricReLU\n",
    "    4. Conv with 3x3 kernel, 64 feature maps and stride 1\n",
    "    5. Batch Normalization\n",
    "    6. Elementwise sum (https://keras.io/layers/merge/ add)\n",
    "5. Conv with 3x3 kernel, 64 feature maps and stride 1\n",
    "6. Batch Normalization\n",
    "7. Elementwise sum (https://keras.io/layers/merge/ add)\n",
    "8. Shuffle block x2 (? how it's called ?)\n",
    "    1. Conv with 3x3 kernel, 256 feature maps and stride 1\n",
    "    2. PixelShuffler x2 https://gist.github.com/t-ae/6e1016cc188104d123676ccef3264981\n",
    "    3. ParametricReLU\n",
    "9. Conv with 9x9 kernel, 3 feature maps and stride 1\n",
    "10. Estimated SR (super-resolved) image\n",
    "\n",
    "Is the padding `same` a correct one? Otherwise the dims are not the same\n",
    "Is the number of pixel shufflers the scaling ratio? "
   ]
  },
  {
   "cell_type": "code",
   "execution_count": 6,
   "metadata": {},
   "outputs": [],
   "source": [
    "# from https://gist.github.com/t-ae/6e1016cc188104d123676ccef3264981\n",
    "\n",
    "class PixelShuffler(Layer):\n",
    "    def __init__(self, size=(2, 2), data_format=None, **kwargs):\n",
    "        super(PixelShuffler, self).__init__(**kwargs)\n",
    "        self.data_format = conv_utils.normalize_data_format(data_format)\n",
    "        self.size = conv_utils.normalize_tuple(size, 2, 'size')\n",
    "\n",
    "    def call(self, inputs):\n",
    "\n",
    "        input_shape = K.int_shape(inputs)\n",
    "        if len(input_shape) != 4:\n",
    "            raise ValueError('Inputs should have rank ' +\n",
    "                             str(4) +\n",
    "                             '; Received input shape:', str(input_shape))\n",
    "\n",
    "        if self.data_format == 'channels_first':\n",
    "            batch_size, c, h, w = input_shape\n",
    "            if batch_size is None:\n",
    "                batch_size = -1\n",
    "            rh, rw = self.size\n",
    "            oh, ow = h * rh, w * rw\n",
    "            oc = c // (rh * rw)\n",
    "\n",
    "            out = K.reshape(inputs, (batch_size, rh, rw, oc, h, w))\n",
    "            out = K.permute_dimensions(out, (0, 3, 4, 1, 5, 2))\n",
    "            out = K.reshape(out, (batch_size, oc, oh, ow))\n",
    "            return out\n",
    "\n",
    "        elif self.data_format == 'channels_last':\n",
    "            batch_size, h, w, c = input_shape\n",
    "            if batch_size is None:\n",
    "                batch_size = -1\n",
    "            rh, rw = self.size\n",
    "            oh, ow = h * rh, w * rw\n",
    "            oc = c // (rh * rw)\n",
    "\n",
    "            out = K.reshape(inputs, (batch_size, h, w, rh, rw, oc))\n",
    "            out = K.permute_dimensions(out, (0, 1, 3, 2, 4, 5))\n",
    "            out = K.reshape(out, (batch_size, oh, ow, oc))\n",
    "            return out\n",
    "\n",
    "    def compute_output_shape(self, input_shape):\n",
    "\n",
    "        if len(input_shape) != 4:\n",
    "            raise ValueError('Inputs should have rank ' +\n",
    "                             str(4) +\n",
    "                             '; Received input shape:', str(input_shape))\n",
    "\n",
    "        if self.data_format == 'channels_first':\n",
    "            height = input_shape[2] * self.size[0] if input_shape[2] is not None else None\n",
    "            width = input_shape[3] * self.size[1] if input_shape[3] is not None else None\n",
    "            channels = input_shape[1] // self.size[0] // self.size[1]\n",
    "\n",
    "            if channels * self.size[0] * self.size[1] != input_shape[1]:\n",
    "                raise ValueError('channels of input and size are incompatible')\n",
    "\n",
    "            return (input_shape[0],\n",
    "                    channels,\n",
    "                    height,\n",
    "                    width)\n",
    "\n",
    "        elif self.data_format == 'channels_last':\n",
    "            height = input_shape[1] * self.size[0] if input_shape[1] is not None else None\n",
    "            width = input_shape[2] * self.size[1] if input_shape[2] is not None else None\n",
    "            channels = input_shape[3] // self.size[0] // self.size[1]\n",
    "\n",
    "            if channels * self.size[0] * self.size[1] != input_shape[3]:\n",
    "                raise ValueError('channels of input and size are incompatible')\n",
    "\n",
    "            return (input_shape[0],\n",
    "                    height,\n",
    "                    width,\n",
    "                    channels)\n",
    "\n",
    "    def get_config(self):\n",
    "        config = {'size': self.size,\n",
    "                  'data_format': self.data_format}\n",
    "        base_config = super(PixelShuffler, self).get_config()\n",
    "\n",
    "        return dict(list(base_config.items()) + list(config.items()))"
   ]
  },
  {
   "cell_type": "code",
   "execution_count": 7,
   "metadata": {},
   "outputs": [],
   "source": [
    "def sgan_generator(input_shape):\n",
    "    kernel_size = (3, 3)\n",
    "    kernel_size_last = (9, 9)\n",
    "    features = 64\n",
    "    features_shuffle = 256\n",
    "    features_last = 3\n",
    "    B = 16\n",
    "\n",
    "    # 1, 2, 3\n",
    "    input_1 = Input(shape=input_shape)\n",
    "    conv2d_2 = Conv2D(filters=features, kernel_size=kernel_size, strides=(1, 1), padding='same')(input_1)\n",
    "    prelu_3 = PReLU()(conv2d_2)\n",
    "\n",
    "    # 4 - residual blocks\n",
    "    last_layer = prelu_3\n",
    "    for _ in range(B):\n",
    "        conv2d_4_A = Conv2D(filters=features, kernel_size=kernel_size, strides=(1, 1), padding='same')(last_layer)\n",
    "        bn_4_B = BatchNormalization()(conv2d_4_A)\n",
    "        prelu_4_C = PReLU()(bn_4_B)\n",
    "        conv2d_4_D = Conv2D(filters=features, kernel_size=kernel_size, strides=(1, 1), padding='same')(prelu_4_C)\n",
    "        bn_4_E = BatchNormalization()(conv2d_4_D)\n",
    "        add_4_F = Add()([last_layer, bn_4_E])\n",
    "\n",
    "        last_layer = add_4_F\n",
    "\n",
    "    # 5, 6, 7\n",
    "    conv2d_5 = Conv2D(filters=features, kernel_size=kernel_size, strides=(1, 1), padding='same')(last_layer)\n",
    "    bn_6 = BatchNormalization()(conv2d_5)\n",
    "    add_7 = Add()([prelu_3, bn_6])\n",
    "\n",
    "    # 8 - shuffle block\n",
    "    last_layer = add_7\n",
    "    for _ in range(1):\n",
    "        conv2d_8_A = Conv2D(filters=features_shuffle, kernel_size=kernel_size, strides=(1, 1), padding='same')(last_layer)\n",
    "        shuffler_8_B = PixelShuffler()(conv2d_8_A)\n",
    "        prelu_8_C = PReLU()(shuffler_8_B)\n",
    "\n",
    "        last_layer = prelu_8_C\n",
    "\n",
    "    # 9 \n",
    "    conv2d_5 = Conv2D(filters=features_last, kernel_size=kernel_size_last, strides=(1, 1), \n",
    "                      padding='same')(last_layer)\n",
    "\n",
    "    model_generator = Model(input_1, conv2d_5)\n",
    "    model_generator.compile(loss='mean_squared_error', optimizer='adam', metrics=['accuracy'])\n",
    "    \n",
    "    return model_generator"
   ]
  },
  {
   "cell_type": "code",
   "execution_count": 8,
   "metadata": {},
   "outputs": [],
   "source": [
    "# model_generator = sgan_generator((x_train_lr.shape[1], x_train_lr.shape[2], x_train_lr.shape[3]))\n",
    "model_generator = sgan_generator((210, 280, 3))"
   ]
  },
  {
   "cell_type": "code",
   "execution_count": 9,
   "metadata": {},
   "outputs": [
    {
     "name": "stdout",
     "output_type": "stream",
     "text": [
      "____________________________________________________________________________________________________\n",
      "Layer (type)                     Output Shape          Param #     Connected to                     \n",
      "====================================================================================================\n",
      "input_1 (InputLayer)             (None, 210, 280, 3)   0                                            \n",
      "____________________________________________________________________________________________________\n",
      "conv2d_1 (Conv2D)                (None, 210, 280, 64)  1792        input_1[0][0]                    \n",
      "____________________________________________________________________________________________________\n",
      "p_re_lu_1 (PReLU)                (None, 210, 280, 64)  3763200     conv2d_1[0][0]                   \n",
      "____________________________________________________________________________________________________\n",
      "conv2d_2 (Conv2D)                (None, 210, 280, 64)  36928       p_re_lu_1[0][0]                  \n",
      "____________________________________________________________________________________________________\n",
      "batch_normalization_1 (BatchNorm (None, 210, 280, 64)  256         conv2d_2[0][0]                   \n",
      "____________________________________________________________________________________________________\n",
      "p_re_lu_2 (PReLU)                (None, 210, 280, 64)  3763200     batch_normalization_1[0][0]      \n",
      "____________________________________________________________________________________________________\n",
      "conv2d_3 (Conv2D)                (None, 210, 280, 64)  36928       p_re_lu_2[0][0]                  \n",
      "____________________________________________________________________________________________________\n",
      "batch_normalization_2 (BatchNorm (None, 210, 280, 64)  256         conv2d_3[0][0]                   \n",
      "____________________________________________________________________________________________________\n",
      "add_1 (Add)                      (None, 210, 280, 64)  0           p_re_lu_1[0][0]                  \n",
      "                                                                   batch_normalization_2[0][0]      \n",
      "____________________________________________________________________________________________________\n",
      "conv2d_4 (Conv2D)                (None, 210, 280, 64)  36928       add_1[0][0]                      \n",
      "____________________________________________________________________________________________________\n",
      "batch_normalization_3 (BatchNorm (None, 210, 280, 64)  256         conv2d_4[0][0]                   \n",
      "____________________________________________________________________________________________________\n",
      "p_re_lu_3 (PReLU)                (None, 210, 280, 64)  3763200     batch_normalization_3[0][0]      \n",
      "____________________________________________________________________________________________________\n",
      "conv2d_5 (Conv2D)                (None, 210, 280, 64)  36928       p_re_lu_3[0][0]                  \n",
      "____________________________________________________________________________________________________\n",
      "batch_normalization_4 (BatchNorm (None, 210, 280, 64)  256         conv2d_5[0][0]                   \n",
      "____________________________________________________________________________________________________\n",
      "add_2 (Add)                      (None, 210, 280, 64)  0           add_1[0][0]                      \n",
      "                                                                   batch_normalization_4[0][0]      \n",
      "____________________________________________________________________________________________________\n",
      "conv2d_6 (Conv2D)                (None, 210, 280, 64)  36928       add_2[0][0]                      \n",
      "____________________________________________________________________________________________________\n",
      "batch_normalization_5 (BatchNorm (None, 210, 280, 64)  256         conv2d_6[0][0]                   \n",
      "____________________________________________________________________________________________________\n",
      "p_re_lu_4 (PReLU)                (None, 210, 280, 64)  3763200     batch_normalization_5[0][0]      \n",
      "____________________________________________________________________________________________________\n",
      "conv2d_7 (Conv2D)                (None, 210, 280, 64)  36928       p_re_lu_4[0][0]                  \n",
      "____________________________________________________________________________________________________\n",
      "batch_normalization_6 (BatchNorm (None, 210, 280, 64)  256         conv2d_7[0][0]                   \n",
      "____________________________________________________________________________________________________\n",
      "add_3 (Add)                      (None, 210, 280, 64)  0           add_2[0][0]                      \n",
      "                                                                   batch_normalization_6[0][0]      \n",
      "____________________________________________________________________________________________________\n",
      "conv2d_8 (Conv2D)                (None, 210, 280, 64)  36928       add_3[0][0]                      \n",
      "____________________________________________________________________________________________________\n",
      "batch_normalization_7 (BatchNorm (None, 210, 280, 64)  256         conv2d_8[0][0]                   \n",
      "____________________________________________________________________________________________________\n",
      "p_re_lu_5 (PReLU)                (None, 210, 280, 64)  3763200     batch_normalization_7[0][0]      \n",
      "____________________________________________________________________________________________________\n",
      "conv2d_9 (Conv2D)                (None, 210, 280, 64)  36928       p_re_lu_5[0][0]                  \n",
      "____________________________________________________________________________________________________\n",
      "batch_normalization_8 (BatchNorm (None, 210, 280, 64)  256         conv2d_9[0][0]                   \n",
      "____________________________________________________________________________________________________\n",
      "add_4 (Add)                      (None, 210, 280, 64)  0           add_3[0][0]                      \n",
      "                                                                   batch_normalization_8[0][0]      \n",
      "____________________________________________________________________________________________________\n",
      "conv2d_10 (Conv2D)               (None, 210, 280, 64)  36928       add_4[0][0]                      \n",
      "____________________________________________________________________________________________________\n",
      "batch_normalization_9 (BatchNorm (None, 210, 280, 64)  256         conv2d_10[0][0]                  \n",
      "____________________________________________________________________________________________________\n",
      "p_re_lu_6 (PReLU)                (None, 210, 280, 64)  3763200     batch_normalization_9[0][0]      \n",
      "____________________________________________________________________________________________________\n",
      "conv2d_11 (Conv2D)               (None, 210, 280, 64)  36928       p_re_lu_6[0][0]                  \n",
      "____________________________________________________________________________________________________\n",
      "batch_normalization_10 (BatchNor (None, 210, 280, 64)  256         conv2d_11[0][0]                  \n",
      "____________________________________________________________________________________________________\n",
      "add_5 (Add)                      (None, 210, 280, 64)  0           add_4[0][0]                      \n",
      "                                                                   batch_normalization_10[0][0]     \n",
      "____________________________________________________________________________________________________\n",
      "conv2d_12 (Conv2D)               (None, 210, 280, 64)  36928       add_5[0][0]                      \n",
      "____________________________________________________________________________________________________\n",
      "batch_normalization_11 (BatchNor (None, 210, 280, 64)  256         conv2d_12[0][0]                  \n",
      "____________________________________________________________________________________________________\n",
      "p_re_lu_7 (PReLU)                (None, 210, 280, 64)  3763200     batch_normalization_11[0][0]     \n",
      "____________________________________________________________________________________________________\n",
      "conv2d_13 (Conv2D)               (None, 210, 280, 64)  36928       p_re_lu_7[0][0]                  \n",
      "____________________________________________________________________________________________________\n",
      "batch_normalization_12 (BatchNor (None, 210, 280, 64)  256         conv2d_13[0][0]                  \n",
      "____________________________________________________________________________________________________\n",
      "add_6 (Add)                      (None, 210, 280, 64)  0           add_5[0][0]                      \n",
      "                                                                   batch_normalization_12[0][0]     \n",
      "____________________________________________________________________________________________________\n",
      "conv2d_14 (Conv2D)               (None, 210, 280, 64)  36928       add_6[0][0]                      \n",
      "____________________________________________________________________________________________________\n",
      "batch_normalization_13 (BatchNor (None, 210, 280, 64)  256         conv2d_14[0][0]                  \n",
      "____________________________________________________________________________________________________\n",
      "p_re_lu_8 (PReLU)                (None, 210, 280, 64)  3763200     batch_normalization_13[0][0]     \n",
      "____________________________________________________________________________________________________\n",
      "conv2d_15 (Conv2D)               (None, 210, 280, 64)  36928       p_re_lu_8[0][0]                  \n",
      "____________________________________________________________________________________________________\n",
      "batch_normalization_14 (BatchNor (None, 210, 280, 64)  256         conv2d_15[0][0]                  \n",
      "____________________________________________________________________________________________________\n",
      "add_7 (Add)                      (None, 210, 280, 64)  0           add_6[0][0]                      \n",
      "                                                                   batch_normalization_14[0][0]     \n",
      "____________________________________________________________________________________________________\n",
      "conv2d_16 (Conv2D)               (None, 210, 280, 64)  36928       add_7[0][0]                      \n",
      "____________________________________________________________________________________________________\n",
      "batch_normalization_15 (BatchNor (None, 210, 280, 64)  256         conv2d_16[0][0]                  \n",
      "____________________________________________________________________________________________________\n",
      "p_re_lu_9 (PReLU)                (None, 210, 280, 64)  3763200     batch_normalization_15[0][0]     \n",
      "____________________________________________________________________________________________________\n",
      "conv2d_17 (Conv2D)               (None, 210, 280, 64)  36928       p_re_lu_9[0][0]                  \n",
      "____________________________________________________________________________________________________\n",
      "batch_normalization_16 (BatchNor (None, 210, 280, 64)  256         conv2d_17[0][0]                  \n",
      "____________________________________________________________________________________________________\n",
      "add_8 (Add)                      (None, 210, 280, 64)  0           add_7[0][0]                      \n",
      "                                                                   batch_normalization_16[0][0]     \n",
      "____________________________________________________________________________________________________\n",
      "conv2d_18 (Conv2D)               (None, 210, 280, 64)  36928       add_8[0][0]                      \n",
      "____________________________________________________________________________________________________\n",
      "batch_normalization_17 (BatchNor (None, 210, 280, 64)  256         conv2d_18[0][0]                  \n",
      "____________________________________________________________________________________________________\n",
      "p_re_lu_10 (PReLU)               (None, 210, 280, 64)  3763200     batch_normalization_17[0][0]     \n",
      "____________________________________________________________________________________________________\n",
      "conv2d_19 (Conv2D)               (None, 210, 280, 64)  36928       p_re_lu_10[0][0]                 \n",
      "____________________________________________________________________________________________________\n",
      "batch_normalization_18 (BatchNor (None, 210, 280, 64)  256         conv2d_19[0][0]                  \n",
      "____________________________________________________________________________________________________\n",
      "add_9 (Add)                      (None, 210, 280, 64)  0           add_8[0][0]                      \n",
      "                                                                   batch_normalization_18[0][0]     \n",
      "____________________________________________________________________________________________________\n",
      "conv2d_20 (Conv2D)               (None, 210, 280, 64)  36928       add_9[0][0]                      \n",
      "____________________________________________________________________________________________________\n",
      "batch_normalization_19 (BatchNor (None, 210, 280, 64)  256         conv2d_20[0][0]                  \n",
      "____________________________________________________________________________________________________\n",
      "p_re_lu_11 (PReLU)               (None, 210, 280, 64)  3763200     batch_normalization_19[0][0]     \n",
      "____________________________________________________________________________________________________\n",
      "conv2d_21 (Conv2D)               (None, 210, 280, 64)  36928       p_re_lu_11[0][0]                 \n",
      "____________________________________________________________________________________________________\n",
      "batch_normalization_20 (BatchNor (None, 210, 280, 64)  256         conv2d_21[0][0]                  \n",
      "____________________________________________________________________________________________________\n",
      "add_10 (Add)                     (None, 210, 280, 64)  0           add_9[0][0]                      \n",
      "                                                                   batch_normalization_20[0][0]     \n",
      "____________________________________________________________________________________________________\n",
      "conv2d_22 (Conv2D)               (None, 210, 280, 64)  36928       add_10[0][0]                     \n",
      "____________________________________________________________________________________________________\n",
      "batch_normalization_21 (BatchNor (None, 210, 280, 64)  256         conv2d_22[0][0]                  \n",
      "____________________________________________________________________________________________________\n",
      "p_re_lu_12 (PReLU)               (None, 210, 280, 64)  3763200     batch_normalization_21[0][0]     \n",
      "____________________________________________________________________________________________________\n",
      "conv2d_23 (Conv2D)               (None, 210, 280, 64)  36928       p_re_lu_12[0][0]                 \n",
      "____________________________________________________________________________________________________\n",
      "batch_normalization_22 (BatchNor (None, 210, 280, 64)  256         conv2d_23[0][0]                  \n",
      "____________________________________________________________________________________________________\n",
      "add_11 (Add)                     (None, 210, 280, 64)  0           add_10[0][0]                     \n",
      "                                                                   batch_normalization_22[0][0]     \n",
      "____________________________________________________________________________________________________\n",
      "conv2d_24 (Conv2D)               (None, 210, 280, 64)  36928       add_11[0][0]                     \n",
      "____________________________________________________________________________________________________\n",
      "batch_normalization_23 (BatchNor (None, 210, 280, 64)  256         conv2d_24[0][0]                  \n",
      "____________________________________________________________________________________________________\n",
      "p_re_lu_13 (PReLU)               (None, 210, 280, 64)  3763200     batch_normalization_23[0][0]     \n",
      "____________________________________________________________________________________________________\n",
      "conv2d_25 (Conv2D)               (None, 210, 280, 64)  36928       p_re_lu_13[0][0]                 \n",
      "____________________________________________________________________________________________________\n",
      "batch_normalization_24 (BatchNor (None, 210, 280, 64)  256         conv2d_25[0][0]                  \n",
      "____________________________________________________________________________________________________\n",
      "add_12 (Add)                     (None, 210, 280, 64)  0           add_11[0][0]                     \n",
      "                                                                   batch_normalization_24[0][0]     \n",
      "____________________________________________________________________________________________________\n",
      "conv2d_26 (Conv2D)               (None, 210, 280, 64)  36928       add_12[0][0]                     \n",
      "____________________________________________________________________________________________________\n",
      "batch_normalization_25 (BatchNor (None, 210, 280, 64)  256         conv2d_26[0][0]                  \n",
      "____________________________________________________________________________________________________\n",
      "p_re_lu_14 (PReLU)               (None, 210, 280, 64)  3763200     batch_normalization_25[0][0]     \n",
      "____________________________________________________________________________________________________\n",
      "conv2d_27 (Conv2D)               (None, 210, 280, 64)  36928       p_re_lu_14[0][0]                 \n",
      "____________________________________________________________________________________________________\n",
      "batch_normalization_26 (BatchNor (None, 210, 280, 64)  256         conv2d_27[0][0]                  \n",
      "____________________________________________________________________________________________________\n",
      "add_13 (Add)                     (None, 210, 280, 64)  0           add_12[0][0]                     \n",
      "                                                                   batch_normalization_26[0][0]     \n",
      "____________________________________________________________________________________________________\n",
      "conv2d_28 (Conv2D)               (None, 210, 280, 64)  36928       add_13[0][0]                     \n",
      "____________________________________________________________________________________________________\n",
      "batch_normalization_27 (BatchNor (None, 210, 280, 64)  256         conv2d_28[0][0]                  \n",
      "____________________________________________________________________________________________________\n",
      "p_re_lu_15 (PReLU)               (None, 210, 280, 64)  3763200     batch_normalization_27[0][0]     \n",
      "____________________________________________________________________________________________________\n",
      "conv2d_29 (Conv2D)               (None, 210, 280, 64)  36928       p_re_lu_15[0][0]                 \n",
      "____________________________________________________________________________________________________\n",
      "batch_normalization_28 (BatchNor (None, 210, 280, 64)  256         conv2d_29[0][0]                  \n",
      "____________________________________________________________________________________________________\n",
      "add_14 (Add)                     (None, 210, 280, 64)  0           add_13[0][0]                     \n",
      "                                                                   batch_normalization_28[0][0]     \n",
      "____________________________________________________________________________________________________\n",
      "conv2d_30 (Conv2D)               (None, 210, 280, 64)  36928       add_14[0][0]                     \n",
      "____________________________________________________________________________________________________\n",
      "batch_normalization_29 (BatchNor (None, 210, 280, 64)  256         conv2d_30[0][0]                  \n",
      "____________________________________________________________________________________________________\n",
      "p_re_lu_16 (PReLU)               (None, 210, 280, 64)  3763200     batch_normalization_29[0][0]     \n",
      "____________________________________________________________________________________________________\n",
      "conv2d_31 (Conv2D)               (None, 210, 280, 64)  36928       p_re_lu_16[0][0]                 \n",
      "____________________________________________________________________________________________________\n",
      "batch_normalization_30 (BatchNor (None, 210, 280, 64)  256         conv2d_31[0][0]                  \n",
      "____________________________________________________________________________________________________\n",
      "add_15 (Add)                     (None, 210, 280, 64)  0           add_14[0][0]                     \n",
      "                                                                   batch_normalization_30[0][0]     \n",
      "____________________________________________________________________________________________________\n",
      "conv2d_32 (Conv2D)               (None, 210, 280, 64)  36928       add_15[0][0]                     \n",
      "____________________________________________________________________________________________________\n",
      "batch_normalization_31 (BatchNor (None, 210, 280, 64)  256         conv2d_32[0][0]                  \n",
      "____________________________________________________________________________________________________\n",
      "p_re_lu_17 (PReLU)               (None, 210, 280, 64)  3763200     batch_normalization_31[0][0]     \n",
      "____________________________________________________________________________________________________\n",
      "conv2d_33 (Conv2D)               (None, 210, 280, 64)  36928       p_re_lu_17[0][0]                 \n",
      "____________________________________________________________________________________________________\n",
      "batch_normalization_32 (BatchNor (None, 210, 280, 64)  256         conv2d_33[0][0]                  \n",
      "____________________________________________________________________________________________________\n",
      "add_16 (Add)                     (None, 210, 280, 64)  0           add_15[0][0]                     \n",
      "                                                                   batch_normalization_32[0][0]     \n",
      "____________________________________________________________________________________________________\n",
      "conv2d_34 (Conv2D)               (None, 210, 280, 64)  36928       add_16[0][0]                     \n",
      "____________________________________________________________________________________________________\n",
      "batch_normalization_33 (BatchNor (None, 210, 280, 64)  256         conv2d_34[0][0]                  \n",
      "____________________________________________________________________________________________________\n",
      "add_17 (Add)                     (None, 210, 280, 64)  0           p_re_lu_1[0][0]                  \n",
      "                                                                   batch_normalization_33[0][0]     \n",
      "____________________________________________________________________________________________________\n",
      "conv2d_35 (Conv2D)               (None, 210, 280, 256) 147712      add_17[0][0]                     \n",
      "____________________________________________________________________________________________________\n",
      "pixel_shuffler_1 (PixelShuffler) (None, 420, 560, 64)  0           conv2d_35[0][0]                  \n",
      "____________________________________________________________________________________________________\n",
      "p_re_lu_18 (PReLU)               (None, 420, 560, 64)  15052800    pixel_shuffler_1[0][0]           \n",
      "____________________________________________________________________________________________________\n",
      "conv2d_36 (Conv2D)               (None, 420, 560, 3)   15555       p_re_lu_18[0][0]                 \n",
      "====================================================================================================\n",
      "Total params: 80,419,331\n",
      "Trainable params: 80,415,107\n",
      "Non-trainable params: 4,224\n",
      "____________________________________________________________________________________________________\n"
     ]
    }
   ],
   "source": [
    "model_generator.summary()"
   ]
  },
  {
   "cell_type": "code",
   "execution_count": 10,
   "metadata": {},
   "outputs": [],
   "source": [
    "train_version = 4"
   ]
  },
  {
   "cell_type": "code",
   "execution_count": 11,
   "metadata": {},
   "outputs": [],
   "source": [
    "checkpointer = ModelCheckpoint(filepath='data/srgan_generator_weights_%s.{epoch:03d}_{val_acc:.4f}.hdf5' % train_version, \n",
    "                               verbose=1, save_best_only=False)\n",
    "tb_callback = TensorBoard(log_dir='data/tensorboard/', histogram_freq=0, write_graph=True, write_images=True)"
   ]
  },
  {
   "cell_type": "code",
   "execution_count": null,
   "metadata": {},
   "outputs": [
    {
     "name": "stdout",
     "output_type": "stream",
     "text": [
      "Epoch 1/5\n"
     ]
    },
    {
     "name": "stderr",
     "output_type": "stream",
     "text": [
      "/usr/local/lib/python3.5/dist-packages/skimage/transform/_warps.py:84: UserWarning: The default mode, 'constant', will be changed to 'reflect' in skimage 0.15.\n",
      "  warn(\"The default mode, 'constant', will be changed to 'reflect' in \"\n"
     ]
    },
    {
     "name": "stdout",
     "output_type": "stream",
     "text": [
      "   33/39612 [..............................] - ETA: 37391s - loss: 0.1612 - acc: 0.3148"
     ]
    }
   ],
   "source": [
    "# model_generator.fit(x_train_lr, x_train, epochs=100, validation_data=(x_test_lr, x_test), callbacks=[tb_callback])\n",
    "\n",
    "batch_size = 1\n",
    "with tf.device('/gpu:0'):\n",
    "    model_generator.fit_generator(generator_images(path_open_images_560_420_train, batch_size=batch_size), \n",
    "                                  steps_per_epoch=count_images(path_open_images_560_420_train) // batch_size,\n",
    "                                  validation_data=generator_images(path_open_images_560_420_val, \n",
    "                                                                   batch_size=batch_size),\n",
    "                                  validation_steps=count_images(path_open_images_560_420_val) // batch_size,\n",
    "                                  epochs=5, callbacks=[tb_callback])"
   ]
  },
  {
   "cell_type": "code",
   "execution_count": null,
   "metadata": {},
   "outputs": [],
   "source": [
    "model_generator.save('data/srgan_generator_%s.model' % train_version)"
   ]
  },
  {
   "cell_type": "code",
   "execution_count": null,
   "metadata": {},
   "outputs": [],
   "source": [
    "model_generator.load_weights('data/srgan_generator_%s.model' % train_version)"
   ]
  },
  {
   "cell_type": "code",
   "execution_count": null,
   "metadata": {},
   "outputs": [],
   "source": [
    "plt.figure(figsize=(15, 30))\n",
    "for i in range(10):\n",
    "    plt.subplot(10, 3, (i * 3) + 1)\n",
    "    plt.imshow(x_train_lr[i])\n",
    "\n",
    "    plt.subplot(10, 3, (i * 3) + 2)\n",
    "    plt.imshow(x_train[i])\n",
    "\n",
    "    plt.subplot(10, 3, (i * 3) + 3)\n",
    "    w, h = x_train_lr.shape[1], x_train_lr.shape[2]\n",
    "    plt.imshow(model_generator.predict(x_train_lr[i].reshape(1, w, h, 3)).astype(np.uint8)[0])\n",
    "\n",
    "plt.savefig('data/srgan_generator_%s_train.png' % train_version)\n",
    "plt.show()"
   ]
  },
  {
   "cell_type": "code",
   "execution_count": null,
   "metadata": {},
   "outputs": [],
   "source": [
    "plt.figure(figsize=(15, 30))\n",
    "for i in range(10):\n",
    "    plt.subplot(10, 3, (i * 3) + 1)\n",
    "    plt.imshow(x_test_lr[i])\n",
    "\n",
    "    plt.subplot(10, 3, (i * 3) + 2)\n",
    "    plt.imshow(x_test[i])\n",
    "\n",
    "    plt.subplot(10, 3, (i * 3) + 3)\n",
    "    w, h = x_test_lr.shape[1], x_test_lr.shape[2]\n",
    "    plt.imshow(model_generator.predict(x_test_lr[i].reshape(1, w, h, 3)).astype(np.uint8)[0])\n",
    "\n",
    "plt.savefig('data/srgan_generator_%s_test.png' % train_version)\n",
    "plt.show()"
   ]
  },
  {
   "cell_type": "code",
   "execution_count": null,
   "metadata": {},
   "outputs": [],
   "source": []
  }
 ],
 "metadata": {
  "kernelspec": {
   "display_name": "Python 3",
   "language": "python",
   "name": "python3"
  },
  "language_info": {
   "codemirror_mode": {
    "name": "ipython",
    "version": 3
   },
   "file_extension": ".py",
   "mimetype": "text/x-python",
   "name": "python",
   "nbconvert_exporter": "python",
   "pygments_lexer": "ipython3",
   "version": "3.5.2"
  }
 },
 "nbformat": 4,
 "nbformat_minor": 2
}
