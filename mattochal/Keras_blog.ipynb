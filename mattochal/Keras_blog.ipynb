{
 "cells": [
  {
   "cell_type": "code",
   "execution_count": 1,
   "metadata": {
    "colab": {
     "autoexec": {
      "startup": false,
      "wait_interval": 0
     },
     "base_uri": "https://localhost:8080/",
     "height": 275,
     "output_extras": [
      {
       "item_id": 2
      }
     ]
    },
    "colab_type": "code",
    "executionInfo": {
     "elapsed": 4449,
     "status": "ok",
     "timestamp": 1519654822704,
     "user": {
      "displayName": "Mateusz Ochał",
      "photoUrl": "https://lh3.googleusercontent.com/a/default-user=s128",
      "userId": "114698943800149961987"
     },
     "user_tz": 0
    },
    "id": "d5HMlrgjRsS2",
    "outputId": "75685de4-fcca-48a6-96d9-d184821c8daa"
   },
   "outputs": [
    {
     "name": "stdout",
     "output_type": "stream",
     "text": [
      "Requirement already satisfied: scikit-image in /usr/local/lib/python3.6/dist-packages\r\n",
      "Requirement already satisfied: six>=1.7.3 in /usr/local/lib/python3.6/dist-packages (from scikit-image)\r\n",
      "Requirement already satisfied: networkx>=1.8 in /usr/local/lib/python3.6/dist-packages (from scikit-image)\r\n",
      "Requirement already satisfied: scipy>=0.17.0 in /usr/local/lib/python3.6/dist-packages (from scikit-image)\r\n",
      "Requirement already satisfied: pillow>=2.1.0 in /usr/local/lib/python3.6/dist-packages (from scikit-image)\r\n",
      "Requirement already satisfied: PyWavelets>=0.4.0 in /usr/local/lib/python3.6/dist-packages (from scikit-image)\r\n",
      "Requirement already satisfied: matplotlib>=1.3.1 in /usr/local/lib/python3.6/dist-packages (from scikit-image)\n",
      "Requirement already satisfied: decorator>=4.1.0 in /usr/local/lib/python3.6/dist-packages (from networkx>=1.8->scikit-image)\n",
      "Requirement already satisfied: numpy>=1.8.2 in /usr/local/lib/python3.6/dist-packages (from scipy>=0.17.0->scikit-image)\n",
      "Requirement already satisfied: olefile in /usr/local/lib/python3.6/dist-packages (from pillow>=2.1.0->scikit-image)\n",
      "Requirement already satisfied: cycler>=0.10 in /usr/local/lib/python3.6/dist-packages (from matplotlib>=1.3.1->scikit-image)\n",
      "Requirement already satisfied: pytz in /usr/local/lib/python3.6/dist-packages (from matplotlib>=1.3.1->scikit-image)\n",
      "Requirement already satisfied: pyparsing!=2.0.4,!=2.1.2,!=2.1.6,>=2.0.1 in /usr/local/lib/python3.6/dist-packages (from matplotlib>=1.3.1->scikit-image)\n",
      "Requirement already satisfied: python-dateutil>=2.1 in /usr/local/lib/python3.6/dist-packages (from matplotlib>=1.3.1->scikit-image)\n"
     ]
    }
   ],
   "source": [
    "# https://keras.io/\n",
    "!pip install -q keras\n",
    "!pip install scikit-image"
   ]
  },
  {
   "cell_type": "markdown",
   "metadata": {
    "colab_type": "text",
    "id": "QIZAtIO_Op86"
   },
   "source": [
    "### Confirm TensorFlow can see the GPU"
   ]
  },
  {
   "cell_type": "code",
   "execution_count": 2,
   "metadata": {
    "colab": {
     "autoexec": {
      "startup": false,
      "wait_interval": 0
     },
     "base_uri": "https://localhost:8080/",
     "height": 51,
     "output_extras": [
      {
       "item_id": 1
      },
      {
       "item_id": 2
      }
     ]
    },
    "colab_type": "code",
    "executionInfo": {
     "elapsed": 7822,
     "status": "ok",
     "timestamp": 1519654835173,
     "user": {
      "displayName": "Mateusz Ochał",
      "photoUrl": "https://lh3.googleusercontent.com/a/default-user=s128",
      "userId": "114698943800149961987"
     },
     "user_tz": 0
    },
    "id": "PhFk2T0qRjoA",
    "outputId": "7407aa32-f66d-4f52-a554-c6eaa5efdba1"
   },
   "outputs": [
    {
     "name": "stderr",
     "output_type": "stream",
     "text": [
      "Using TensorFlow backend.\n"
     ]
    },
    {
     "name": "stdout",
     "output_type": "stream",
     "text": [
      "Found GPU at: /device:GPU:0\n"
     ]
    }
   ],
   "source": [
    "import tensorflow as tf\n",
    "from keras.layers import Input, Dense\n",
    "from keras.models import Model\n",
    "device_name = tf.test.gpu_device_name()\n",
    "if device_name != '/device:GPU:0':\n",
    "  raise SystemError('GPU device not found')\n",
    "print('Found GPU at: {}'.format(device_name))"
   ]
  },
  {
   "cell_type": "code",
   "execution_count": 3,
   "metadata": {
    "colab": {
     "autoexec": {
      "startup": false,
      "wait_interval": 0
     },
     "base_uri": "https://localhost:8080/",
     "height": 85,
     "output_extras": [
      {
       "item_id": 5
      }
     ]
    },
    "colab_type": "code",
    "executionInfo": {
     "elapsed": 1621,
     "status": "ok",
     "timestamp": 1519654841294,
     "user": {
      "displayName": "Mateusz Ochał",
      "photoUrl": "https://lh3.googleusercontent.com/a/default-user=s128",
      "userId": "114698943800149961987"
     },
     "user_tz": 0
    },
    "id": "B-imlcCvTbia",
    "outputId": "07e61117-adc5-4c9d-ee78-68f12e15aa5c"
   },
   "outputs": [
    {
     "name": "stdout",
     "output_type": "stream",
     "text": [
      "Downloading data from https://s3.amazonaws.com/img-datasets/mnist.npz\n",
      "11493376/11490434 [==============================] - 1s 0us/step\n",
      "(60000, 784)\n",
      "(10000, 784)\n"
     ]
    }
   ],
   "source": [
    "# Load data\n",
    "from keras.datasets import mnist\n",
    "import numpy as np\n",
    "(x_train, _), (x_test, _) = mnist.load_data()\n",
    "\n",
    "x_train = x_train.astype('float32') / 255.\n",
    "x_test = x_test.astype('float32') / 255.\n",
    "x_train = x_train.reshape((len(x_train), np.prod(x_train.shape[1:])))\n",
    "x_test = x_test.reshape((len(x_test), np.prod(x_test.shape[1:])))\n",
    "print (x_train.shape)\n",
    "print (x_test.shape)"
   ]
  },
  {
   "cell_type": "code",
   "execution_count": 0,
   "metadata": {
    "colab": {
     "autoexec": {
      "startup": false,
      "wait_interval": 0
     }
    },
    "colab_type": "code",
    "id": "gW0z4-OEODX2"
   },
   "outputs": [],
   "source": [
    "def single_layer_autoencoder(x_train, x_test, init_image_dim=784, encoding_dim=32):\n",
    "  \"\"\"\n",
    "  params:\n",
    "  > encoding_dim: this is the size of our encoded representations\n",
    "  \"\"\"\n",
    "  input_img = Input(shape=(init_image_dim,))\n",
    "  encoded = Dense(encoding_dim, activation='relu')(input_img)  # the encoded representation of the input\n",
    "  decoded = Dense(init_image_dim, activation='sigmoid')(encoded)  # the lossy reconstruction of the input\n",
    "\n",
    "  autoencoder = Model(input_img, decoded)  # this model maps an input to its reconstruction\n",
    "  encoder = Model(input_img, encoded)  # this model maps an input to its encoded representation\n",
    "  encoded_input = Input(shape=(encoding_dim,))  # create a placeholder for an encoded (32-dimensional) input\n",
    "  decoder_layer = autoencoder.layers[-1]  # retrieve the last layer of the autoencoder model\n",
    "\n",
    "  decoder = Model(encoded_input, decoder_layer(encoded_input))  # create the decoder model\n",
    "\n",
    "  autoencoder.compile(optimizer='adadelta', loss='binary_crossentropy')\n",
    "\n",
    "  autoencoder.fit(x_train, x_train,\n",
    "                  epochs=50,\n",
    "                  batch_size=256,\n",
    "                  shuffle=True,\n",
    "                  validation_data=(x_test, x_test))\n",
    "  \n",
    "  # encode and decode some digits\n",
    "  # note that we take them from the *test* set\n",
    "  encoded_imgs = encoder.predict(x_test)\n",
    "  decoded_imgs = decoder.predict(encoded_imgs)\n",
    "  return encoded_imgs, decoded_imgs"
   ]
  },
  {
   "cell_type": "code",
   "execution_count": 0,
   "metadata": {
    "colab": {
     "autoexec": {
      "startup": false,
      "wait_interval": 0
     }
    },
    "colab_type": "code",
    "id": "UAcWqRJQZTZL"
   },
   "outputs": [],
   "source": [
    "# use Matplotlib (don't ask)\n",
    "import matplotlib.pyplot as plt\n",
    "\n",
    "def draw_decoded_images(x_test, decoded_imgs, n=12):\n",
    "  \"\"\"\n",
    "  params:\n",
    "  > n: how many digits we will display\n",
    "  \"\"\"\n",
    "  plt.figure(figsize=(20, 4))\n",
    "  for i in range(n):\n",
    "      # display original\n",
    "      ax = plt.subplot(2, n, i + 1)\n",
    "      plt.imshow(x_test[i].reshape(28, 28))\n",
    "      plt.gray()\n",
    "      ax.get_xaxis().set_visible(False)\n",
    "      ax.get_yaxis().set_visible(False)\n",
    "\n",
    "      # display reconstruction\n",
    "      ax = plt.subplot(2, n, i + 1 + n)\n",
    "      plt.imshow(decoded_imgs[i].reshape(28, 28))\n",
    "      plt.gray()\n",
    "      ax.get_xaxis().set_visible(False)\n",
    "      ax.get_yaxis().set_visible(False)\n",
    "  plt.show()"
   ]
  },
  {
   "cell_type": "code",
   "execution_count": 7,
   "metadata": {
    "colab": {
     "autoexec": {
      "startup": false,
      "wait_interval": 0
     },
     "base_uri": "https://localhost:8080/",
     "height": 1425,
     "output_extras": [
      {
       "item_id": 7
      },
      {
       "item_id": 8
      }
     ]
    },
    "colab_type": "code",
    "executionInfo": {
     "elapsed": 2227,
     "status": "error",
     "timestamp": 1519655445760,
     "user": {
      "displayName": "Mateusz Ochał",
      "photoUrl": "https://lh3.googleusercontent.com/a/default-user=s128",
      "userId": "114698943800149961987"
     },
     "user_tz": 0
    },
    "id": "XuFdUfInS3YF",
    "outputId": "87a5e717-b10c-440e-d703-a6d728a96e3c"
   },
   "outputs": [
    {
     "name": "stdout",
     "output_type": "stream",
     "text": [
      "Train on 60000 samples, validate on 10000 samples\n",
      "Epoch 1/50\n",
      "59392/60000 [============================>.] - ETA: 0s - loss: 0.3543"
     ]
    },
    {
     "ename": "KeyboardInterrupt",
     "evalue": "ignored",
     "output_type": "error",
     "traceback": [
      "\u001b[0;31m---------------------------------------------------------------------------\u001b[0m",
      "\u001b[0;31mKeyboardInterrupt\u001b[0m                         Traceback (most recent call last)",
      "\u001b[0;32m<ipython-input-7-e4fbf1683268>\u001b[0m in \u001b[0;36m<module>\u001b[0;34m()\u001b[0m\n\u001b[0;32m----> 1\u001b[0;31m \u001b[0mencoded_imgs\u001b[0m\u001b[0;34m,\u001b[0m \u001b[0mdecoded_imgs\u001b[0m \u001b[0;34m=\u001b[0m \u001b[0msingle_layer_autoencoder\u001b[0m\u001b[0;34m(\u001b[0m\u001b[0mx_train\u001b[0m\u001b[0;34m,\u001b[0m \u001b[0mx_test\u001b[0m\u001b[0;34m)\u001b[0m\u001b[0;34m\u001b[0m\u001b[0m\n\u001b[0m",
      "\u001b[0;32m<ipython-input-4-0b055f0566b3>\u001b[0m in \u001b[0;36msingle_layer_autoencoder\u001b[0;34m(x_train, x_test, init_image_dim, encoding_dim)\u001b[0m\n\u001b[1;32m     21\u001b[0m                   \u001b[0mbatch_size\u001b[0m\u001b[0;34m=\u001b[0m\u001b[0;36m256\u001b[0m\u001b[0;34m,\u001b[0m\u001b[0;34m\u001b[0m\u001b[0m\n\u001b[1;32m     22\u001b[0m                   \u001b[0mshuffle\u001b[0m\u001b[0;34m=\u001b[0m\u001b[0;32mTrue\u001b[0m\u001b[0;34m,\u001b[0m\u001b[0;34m\u001b[0m\u001b[0m\n\u001b[0;32m---> 23\u001b[0;31m                   validation_data=(x_test, x_test))\n\u001b[0m\u001b[1;32m     24\u001b[0m \u001b[0;34m\u001b[0m\u001b[0m\n\u001b[1;32m     25\u001b[0m   \u001b[0;31m# encode and decode some digits\u001b[0m\u001b[0;34m\u001b[0m\u001b[0;34m\u001b[0m\u001b[0m\n",
      "\u001b[0;32m/usr/local/lib/python3.6/dist-packages/keras/engine/training.py\u001b[0m in \u001b[0;36mfit\u001b[0;34m(self, x, y, batch_size, epochs, verbose, callbacks, validation_split, validation_data, shuffle, class_weight, sample_weight, initial_epoch, steps_per_epoch, validation_steps, **kwargs)\u001b[0m\n\u001b[1;32m   1710\u001b[0m                               \u001b[0minitial_epoch\u001b[0m\u001b[0;34m=\u001b[0m\u001b[0minitial_epoch\u001b[0m\u001b[0;34m,\u001b[0m\u001b[0;34m\u001b[0m\u001b[0m\n\u001b[1;32m   1711\u001b[0m                               \u001b[0msteps_per_epoch\u001b[0m\u001b[0;34m=\u001b[0m\u001b[0msteps_per_epoch\u001b[0m\u001b[0;34m,\u001b[0m\u001b[0;34m\u001b[0m\u001b[0m\n\u001b[0;32m-> 1712\u001b[0;31m                               validation_steps=validation_steps)\n\u001b[0m\u001b[1;32m   1713\u001b[0m \u001b[0;34m\u001b[0m\u001b[0m\n\u001b[1;32m   1714\u001b[0m     def evaluate(self, x=None, y=None,\n",
      "\u001b[0;32m/usr/local/lib/python3.6/dist-packages/keras/engine/training.py\u001b[0m in \u001b[0;36m_fit_loop\u001b[0;34m(self, f, ins, out_labels, batch_size, epochs, verbose, callbacks, val_f, val_ins, shuffle, callback_metrics, initial_epoch, steps_per_epoch, validation_steps)\u001b[0m\n\u001b[1;32m   1247\u001b[0m                             val_outs = self._test_loop(val_f, val_ins,\n\u001b[1;32m   1248\u001b[0m                                                        \u001b[0mbatch_size\u001b[0m\u001b[0;34m=\u001b[0m\u001b[0mbatch_size\u001b[0m\u001b[0;34m,\u001b[0m\u001b[0;34m\u001b[0m\u001b[0m\n\u001b[0;32m-> 1249\u001b[0;31m                                                        verbose=0)\n\u001b[0m\u001b[1;32m   1250\u001b[0m                             \u001b[0;32mif\u001b[0m \u001b[0;32mnot\u001b[0m \u001b[0misinstance\u001b[0m\u001b[0;34m(\u001b[0m\u001b[0mval_outs\u001b[0m\u001b[0;34m,\u001b[0m \u001b[0mlist\u001b[0m\u001b[0;34m)\u001b[0m\u001b[0;34m:\u001b[0m\u001b[0;34m\u001b[0m\u001b[0m\n\u001b[1;32m   1251\u001b[0m                                 \u001b[0mval_outs\u001b[0m \u001b[0;34m=\u001b[0m \u001b[0;34m[\u001b[0m\u001b[0mval_outs\u001b[0m\u001b[0;34m]\u001b[0m\u001b[0;34m\u001b[0m\u001b[0m\n",
      "\u001b[0;32m/usr/local/lib/python3.6/dist-packages/keras/engine/training.py\u001b[0m in \u001b[0;36m_test_loop\u001b[0;34m(self, f, ins, batch_size, verbose, steps)\u001b[0m\n\u001b[1;32m   1431\u001b[0m                     \u001b[0mins_batch\u001b[0m\u001b[0;34m[\u001b[0m\u001b[0mi\u001b[0m\u001b[0;34m]\u001b[0m \u001b[0;34m=\u001b[0m \u001b[0mins_batch\u001b[0m\u001b[0;34m[\u001b[0m\u001b[0mi\u001b[0m\u001b[0;34m]\u001b[0m\u001b[0;34m.\u001b[0m\u001b[0mtoarray\u001b[0m\u001b[0;34m(\u001b[0m\u001b[0;34m)\u001b[0m\u001b[0;34m\u001b[0m\u001b[0m\n\u001b[1;32m   1432\u001b[0m \u001b[0;34m\u001b[0m\u001b[0m\n\u001b[0;32m-> 1433\u001b[0;31m                 \u001b[0mbatch_outs\u001b[0m \u001b[0;34m=\u001b[0m \u001b[0mf\u001b[0m\u001b[0;34m(\u001b[0m\u001b[0mins_batch\u001b[0m\u001b[0;34m)\u001b[0m\u001b[0;34m\u001b[0m\u001b[0m\n\u001b[0m\u001b[1;32m   1434\u001b[0m                 \u001b[0;32mif\u001b[0m \u001b[0misinstance\u001b[0m\u001b[0;34m(\u001b[0m\u001b[0mbatch_outs\u001b[0m\u001b[0;34m,\u001b[0m \u001b[0mlist\u001b[0m\u001b[0;34m)\u001b[0m\u001b[0;34m:\u001b[0m\u001b[0;34m\u001b[0m\u001b[0m\n\u001b[1;32m   1435\u001b[0m                     \u001b[0;32mif\u001b[0m \u001b[0mbatch_index\u001b[0m \u001b[0;34m==\u001b[0m \u001b[0;36m0\u001b[0m\u001b[0;34m:\u001b[0m\u001b[0;34m\u001b[0m\u001b[0m\n",
      "\u001b[0;32m/usr/local/lib/python3.6/dist-packages/keras/backend/tensorflow_backend.py\u001b[0m in \u001b[0;36m__call__\u001b[0;34m(self, inputs)\u001b[0m\n\u001b[1;32m   2473\u001b[0m         \u001b[0msession\u001b[0m \u001b[0;34m=\u001b[0m \u001b[0mget_session\u001b[0m\u001b[0;34m(\u001b[0m\u001b[0;34m)\u001b[0m\u001b[0;34m\u001b[0m\u001b[0m\n\u001b[1;32m   2474\u001b[0m         updated = session.run(fetches=fetches, feed_dict=feed_dict,\n\u001b[0;32m-> 2475\u001b[0;31m                               **self.session_kwargs)\n\u001b[0m\u001b[1;32m   2476\u001b[0m         \u001b[0;32mreturn\u001b[0m \u001b[0mupdated\u001b[0m\u001b[0;34m[\u001b[0m\u001b[0;34m:\u001b[0m\u001b[0mlen\u001b[0m\u001b[0;34m(\u001b[0m\u001b[0mself\u001b[0m\u001b[0;34m.\u001b[0m\u001b[0moutputs\u001b[0m\u001b[0;34m)\u001b[0m\u001b[0;34m]\u001b[0m\u001b[0;34m\u001b[0m\u001b[0m\n\u001b[1;32m   2477\u001b[0m \u001b[0;34m\u001b[0m\u001b[0m\n",
      "\u001b[0;32m/usr/local/lib/python3.6/dist-packages/tensorflow/python/client/session.py\u001b[0m in \u001b[0;36mrun\u001b[0;34m(self, fetches, feed_dict, options, run_metadata)\u001b[0m\n\u001b[1;32m    903\u001b[0m     \u001b[0;32mtry\u001b[0m\u001b[0;34m:\u001b[0m\u001b[0;34m\u001b[0m\u001b[0m\n\u001b[1;32m    904\u001b[0m       result = self._run(None, fetches, feed_dict, options_ptr,\n\u001b[0;32m--> 905\u001b[0;31m                          run_metadata_ptr)\n\u001b[0m\u001b[1;32m    906\u001b[0m       \u001b[0;32mif\u001b[0m \u001b[0mrun_metadata\u001b[0m\u001b[0;34m:\u001b[0m\u001b[0;34m\u001b[0m\u001b[0m\n\u001b[1;32m    907\u001b[0m         \u001b[0mproto_data\u001b[0m \u001b[0;34m=\u001b[0m \u001b[0mtf_session\u001b[0m\u001b[0;34m.\u001b[0m\u001b[0mTF_GetBuffer\u001b[0m\u001b[0;34m(\u001b[0m\u001b[0mrun_metadata_ptr\u001b[0m\u001b[0;34m)\u001b[0m\u001b[0;34m\u001b[0m\u001b[0m\n",
      "\u001b[0;32m/usr/local/lib/python3.6/dist-packages/tensorflow/python/client/session.py\u001b[0m in \u001b[0;36m_run\u001b[0;34m(self, handle, fetches, feed_dict, options, run_metadata)\u001b[0m\n\u001b[1;32m   1135\u001b[0m     \u001b[0;32mif\u001b[0m \u001b[0mfinal_fetches\u001b[0m \u001b[0;32mor\u001b[0m \u001b[0mfinal_targets\u001b[0m \u001b[0;32mor\u001b[0m \u001b[0;34m(\u001b[0m\u001b[0mhandle\u001b[0m \u001b[0;32mand\u001b[0m \u001b[0mfeed_dict_tensor\u001b[0m\u001b[0;34m)\u001b[0m\u001b[0;34m:\u001b[0m\u001b[0;34m\u001b[0m\u001b[0m\n\u001b[1;32m   1136\u001b[0m       results = self._do_run(handle, final_targets, final_fetches,\n\u001b[0;32m-> 1137\u001b[0;31m                              feed_dict_tensor, options, run_metadata)\n\u001b[0m\u001b[1;32m   1138\u001b[0m     \u001b[0;32melse\u001b[0m\u001b[0;34m:\u001b[0m\u001b[0;34m\u001b[0m\u001b[0m\n\u001b[1;32m   1139\u001b[0m       \u001b[0mresults\u001b[0m \u001b[0;34m=\u001b[0m \u001b[0;34m[\u001b[0m\u001b[0;34m]\u001b[0m\u001b[0;34m\u001b[0m\u001b[0m\n",
      "\u001b[0;32m/usr/local/lib/python3.6/dist-packages/tensorflow/python/client/session.py\u001b[0m in \u001b[0;36m_do_run\u001b[0;34m(self, handle, target_list, fetch_list, feed_dict, options, run_metadata)\u001b[0m\n\u001b[1;32m   1353\u001b[0m     \u001b[0;32mif\u001b[0m \u001b[0mhandle\u001b[0m \u001b[0;32mis\u001b[0m \u001b[0;32mNone\u001b[0m\u001b[0;34m:\u001b[0m\u001b[0;34m\u001b[0m\u001b[0m\n\u001b[1;32m   1354\u001b[0m       return self._do_call(_run_fn, self._session, feeds, fetches, targets,\n\u001b[0;32m-> 1355\u001b[0;31m                            options, run_metadata)\n\u001b[0m\u001b[1;32m   1356\u001b[0m     \u001b[0;32melse\u001b[0m\u001b[0;34m:\u001b[0m\u001b[0;34m\u001b[0m\u001b[0m\n\u001b[1;32m   1357\u001b[0m       \u001b[0;32mreturn\u001b[0m \u001b[0mself\u001b[0m\u001b[0;34m.\u001b[0m\u001b[0m_do_call\u001b[0m\u001b[0;34m(\u001b[0m\u001b[0m_prun_fn\u001b[0m\u001b[0;34m,\u001b[0m \u001b[0mself\u001b[0m\u001b[0;34m.\u001b[0m\u001b[0m_session\u001b[0m\u001b[0;34m,\u001b[0m \u001b[0mhandle\u001b[0m\u001b[0;34m,\u001b[0m \u001b[0mfeeds\u001b[0m\u001b[0;34m,\u001b[0m \u001b[0mfetches\u001b[0m\u001b[0;34m)\u001b[0m\u001b[0;34m\u001b[0m\u001b[0m\n",
      "\u001b[0;32m/usr/local/lib/python3.6/dist-packages/tensorflow/python/client/session.py\u001b[0m in \u001b[0;36m_do_call\u001b[0;34m(self, fn, *args)\u001b[0m\n\u001b[1;32m   1359\u001b[0m   \u001b[0;32mdef\u001b[0m \u001b[0m_do_call\u001b[0m\u001b[0;34m(\u001b[0m\u001b[0mself\u001b[0m\u001b[0;34m,\u001b[0m \u001b[0mfn\u001b[0m\u001b[0;34m,\u001b[0m \u001b[0;34m*\u001b[0m\u001b[0margs\u001b[0m\u001b[0;34m)\u001b[0m\u001b[0;34m:\u001b[0m\u001b[0;34m\u001b[0m\u001b[0m\n\u001b[1;32m   1360\u001b[0m     \u001b[0;32mtry\u001b[0m\u001b[0;34m:\u001b[0m\u001b[0;34m\u001b[0m\u001b[0m\n\u001b[0;32m-> 1361\u001b[0;31m       \u001b[0;32mreturn\u001b[0m \u001b[0mfn\u001b[0m\u001b[0;34m(\u001b[0m\u001b[0;34m*\u001b[0m\u001b[0margs\u001b[0m\u001b[0;34m)\u001b[0m\u001b[0;34m\u001b[0m\u001b[0m\n\u001b[0m\u001b[1;32m   1362\u001b[0m     \u001b[0;32mexcept\u001b[0m \u001b[0merrors\u001b[0m\u001b[0;34m.\u001b[0m\u001b[0mOpError\u001b[0m \u001b[0;32mas\u001b[0m \u001b[0me\u001b[0m\u001b[0;34m:\u001b[0m\u001b[0;34m\u001b[0m\u001b[0m\n\u001b[1;32m   1363\u001b[0m       \u001b[0mmessage\u001b[0m \u001b[0;34m=\u001b[0m \u001b[0mcompat\u001b[0m\u001b[0;34m.\u001b[0m\u001b[0mas_text\u001b[0m\u001b[0;34m(\u001b[0m\u001b[0me\u001b[0m\u001b[0;34m.\u001b[0m\u001b[0mmessage\u001b[0m\u001b[0;34m)\u001b[0m\u001b[0;34m\u001b[0m\u001b[0m\n",
      "\u001b[0;32m/usr/local/lib/python3.6/dist-packages/tensorflow/python/client/session.py\u001b[0m in \u001b[0;36m_run_fn\u001b[0;34m(session, feed_dict, fetch_list, target_list, options, run_metadata)\u001b[0m\n\u001b[1;32m   1338\u001b[0m         \u001b[0;32melse\u001b[0m\u001b[0;34m:\u001b[0m\u001b[0;34m\u001b[0m\u001b[0m\n\u001b[1;32m   1339\u001b[0m           return tf_session.TF_Run(session, options, feed_dict, fetch_list,\n\u001b[0;32m-> 1340\u001b[0;31m                                    target_list, status, run_metadata)\n\u001b[0m\u001b[1;32m   1341\u001b[0m \u001b[0;34m\u001b[0m\u001b[0m\n\u001b[1;32m   1342\u001b[0m     \u001b[0;32mdef\u001b[0m \u001b[0m_prun_fn\u001b[0m\u001b[0;34m(\u001b[0m\u001b[0msession\u001b[0m\u001b[0;34m,\u001b[0m \u001b[0mhandle\u001b[0m\u001b[0;34m,\u001b[0m \u001b[0mfeed_dict\u001b[0m\u001b[0;34m,\u001b[0m \u001b[0mfetch_list\u001b[0m\u001b[0;34m)\u001b[0m\u001b[0;34m:\u001b[0m\u001b[0;34m\u001b[0m\u001b[0m\n",
      "\u001b[0;31mKeyboardInterrupt\u001b[0m: "
     ]
    }
   ],
   "source": [
    "encoded_imgs, decoded_imgs = single_layer_autoencoder(x_train, x_test)"
   ]
  },
  {
   "cell_type": "code",
   "execution_count": 8,
   "metadata": {
    "colab": {
     "autoexec": {
      "startup": false,
      "wait_interval": 0
     },
     "base_uri": "https://localhost:8080/",
     "height": 164,
     "output_extras": [
      {
       "item_id": 1
      }
     ]
    },
    "colab_type": "code",
    "executionInfo": {
     "elapsed": 438,
     "status": "error",
     "timestamp": 1519655450071,
     "user": {
      "displayName": "Mateusz Ochał",
      "photoUrl": "https://lh3.googleusercontent.com/a/default-user=s128",
      "userId": "114698943800149961987"
     },
     "user_tz": 0
    },
    "id": "7Upl56PUexn8",
    "outputId": "af3363fd-dd55-4f80-da01-5c2d75a72963"
   },
   "outputs": [
    {
     "ename": "NameError",
     "evalue": "ignored",
     "output_type": "error",
     "traceback": [
      "\u001b[0;31m---------------------------------------------------------------------------\u001b[0m",
      "\u001b[0;31mNameError\u001b[0m                                 Traceback (most recent call last)",
      "\u001b[0;32m<ipython-input-8-c5ac7d917f18>\u001b[0m in \u001b[0;36m<module>\u001b[0;34m()\u001b[0m\n\u001b[0;32m----> 1\u001b[0;31m \u001b[0mdraw_decoded_images\u001b[0m\u001b[0;34m(\u001b[0m\u001b[0mx_test\u001b[0m\u001b[0;34m,\u001b[0m \u001b[0mdecoded_imgs\u001b[0m\u001b[0;34m)\u001b[0m\u001b[0;34m\u001b[0m\u001b[0m\n\u001b[0m",
      "\u001b[0;31mNameError\u001b[0m: name 'decoded_imgs' is not defined"
     ]
    }
   ],
   "source": [
    "draw_decoded_images(x_test, decoded_imgs)"
   ]
  },
  {
   "cell_type": "code",
   "execution_count": 0,
   "metadata": {
    "colab": {
     "autoexec": {
      "startup": false,
      "wait_interval": 0
     }
    },
    "colab_type": "code",
    "id": "g3i8_Ab1OcVk"
   },
   "outputs": [],
   "source": [
    "def single_layer_autoencoder_with_sparsity_constraint(x_train, x_test, init_image_dim=784, encoding_dim=32, epochs=100):\n",
    "  \"\"\"\n",
    "  params:\n",
    "  > encoding_dim: this is the size of our encoded representations\n",
    "  \"\"\"\n",
    "  from keras.models import Sequential\n",
    "  from keras.layers import Dense\n",
    "  from keras import regularizers\n",
    "  \n",
    "  encoded1 = Dense(encoding_dim, activity_regularizer=regularizers.l2(10e-6), \n",
    "                   activation='relu', input_shape=(init_image_dim,))\n",
    "  decoded1 = Dense(init_image_dim, activation='sigmoid', input_shape=(encoding_dim,))\n",
    "  \n",
    "  autoencoder = Sequential([encoded1, decoded1])\n",
    "  encoder = Sequential([encoded1])\n",
    "  decoder = Sequential([decoded1])\n",
    "  \n",
    "  autoencoder.compile(optimizer='adadelta', loss='binary_crossentropy')\n",
    "\n",
    "  autoencoder.fit(x_train, x_train,\n",
    "                  epochs=epochs,\n",
    "                  batch_size=256,\n",
    "                  shuffle=True,\n",
    "                  validation_data=(x_test, x_test))\n",
    "  \n",
    "  # encode and decode some digits\n",
    "  # note that we take them from the *test* set\n",
    "  encoded_imgs = encoder.predict(x_test)\n",
    "  decoded_imgs = decoder.predict(encoded_imgs)\n",
    "  return encoded_imgs, decoded_imgs"
   ]
  },
  {
   "cell_type": "code",
   "execution_count": 62,
   "metadata": {
    "colab": {
     "autoexec": {
      "startup": false,
      "wait_interval": 0
     },
     "base_uri": "https://localhost:8080/",
     "height": 3454,
     "output_extras": [
      {
       "item_id": 47
      },
      {
       "item_id": 93
      },
      {
       "item_id": 135
      },
      {
       "item_id": 176
      },
      {
       "item_id": 212
      },
      {
       "item_id": 223
      },
      {
       "item_id": 246
      },
      {
       "item_id": 291
      },
      {
       "item_id": 333
      },
      {
       "item_id": 375
      },
      {
       "item_id": 417
      },
      {
       "item_id": 462
      },
      {
       "item_id": 499
      },
      {
       "item_id": 537
      }
     ]
    },
    "colab_type": "code",
    "executionInfo": {
     "elapsed": 154627,
     "status": "ok",
     "timestamp": 1519386646392,
     "user": {
      "displayName": "Mateusz Ochał",
      "photoUrl": "https://lh3.googleusercontent.com/a/default-user=s128",
      "userId": "114698943800149961987"
     },
     "user_tz": 0
    },
    "id": "7ENoa-mAgexz",
    "outputId": "61f7b0a6-868e-478d-dc9e-b62feebdcf55"
   },
   "outputs": [
    {
     "name": "stdout",
     "output_type": "stream",
     "text": [
      "Train on 60000 samples, validate on 10000 samples\n",
      "Epoch 1/100\n",
      "60000/60000 [==============================] - 2s 32us/step - loss: 0.5926 - val_loss: 0.4507\n",
      "Epoch 2/100\n",
      "60000/60000 [==============================] - 2s 26us/step - loss: 0.4031 - val_loss: 0.3747\n",
      "Epoch 3/100\n",
      "60000/60000 [==============================] - 2s 25us/step - loss: 0.3589 - val_loss: 0.3480\n",
      "Epoch 4/100\n",
      "60000/60000 [==============================] - 2s 26us/step - loss: 0.3388 - val_loss: 0.3330\n",
      "Epoch 5/100\n",
      "60000/60000 [==============================] - 2s 25us/step - loss: 0.3265 - val_loss: 0.3229\n",
      "Epoch 6/100\n",
      "60000/60000 [==============================] - 2s 25us/step - loss: 0.3181 - val_loss: 0.3159\n",
      "Epoch 7/100\n",
      "60000/60000 [==============================] - 2s 25us/step - loss: 0.3119 - val_loss: 0.3101\n",
      "Epoch 8/100\n",
      "17408/60000 [=======>......................] - ETA: 1s - loss: 0.308960000/60000 [==============================] - 2s 26us/step - loss: 0.3069 - val_loss: 0.3055\n",
      "Epoch 9/100\n",
      "60000/60000 [==============================] - 2s 25us/step - loss: 0.3027 - val_loss: 0.3015\n",
      "Epoch 10/100\n",
      "60000/60000 [==============================] - 2s 25us/step - loss: 0.2990 - val_loss: 0.2979\n",
      "Epoch 11/100\n",
      "60000/60000 [==============================] - 2s 25us/step - loss: 0.2954 - val_loss: 0.2944\n",
      "Epoch 12/100\n",
      "60000/60000 [==============================] - 2s 26us/step - loss: 0.2920 - val_loss: 0.2910\n",
      "Epoch 13/100\n",
      "60000/60000 [==============================] - 2s 26us/step - loss: 0.2888 - val_loss: 0.2877\n",
      "Epoch 14/100\n",
      "60000/60000 [==============================] - 2s 25us/step - loss: 0.2856 - val_loss: 0.2844\n",
      "Epoch 15/100\n",
      "55040/60000 [==========================>...] - ETA: 0s - loss: 0.282760000/60000 [==============================] - 2s 26us/step - loss: 0.2826 - val_loss: 0.2814\n",
      "Epoch 16/100\n",
      "60000/60000 [==============================] - 2s 25us/step - loss: 0.2796 - val_loss: 0.2786\n",
      "Epoch 17/100\n",
      "60000/60000 [==============================] - 2s 26us/step - loss: 0.2768 - val_loss: 0.2758\n",
      "Epoch 18/100\n",
      "60000/60000 [==============================] - 2s 25us/step - loss: 0.2742 - val_loss: 0.2731\n",
      "Epoch 19/100\n",
      "60000/60000 [==============================] - 2s 25us/step - loss: 0.2717 - val_loss: 0.2705\n",
      "Epoch 20/100\n",
      "60000/60000 [==============================] - 2s 26us/step - loss: 0.2692 - val_loss: 0.2682\n",
      "Epoch 21/100\n",
      "60000/60000 [==============================] - 2s 25us/step - loss: 0.2670 - val_loss: 0.2660\n",
      "Epoch 22/100\n",
      "56832/60000 [===========================>..] - ETA: 0s - loss: 0.264860000/60000 [==============================] - 2s 26us/step - loss: 0.2648 - val_loss: 0.2639\n",
      "Epoch 23/100\n",
      "60000/60000 [==============================] - 2s 25us/step - loss: 0.2627 - val_loss: 0.2618\n",
      "Epoch 24/100\n",
      "60000/60000 [==============================] - 2s 26us/step - loss: 0.2607 - val_loss: 0.2597\n",
      "Epoch 25/100\n",
      "60000/60000 [==============================] - 2s 25us/step - loss: 0.2589 - val_loss: 0.2579\n",
      "Epoch 26/100\n",
      "60000/60000 [==============================] - 2s 25us/step - loss: 0.2571 - val_loss: 0.2562\n",
      "Epoch 27/100\n",
      "60000/60000 [==============================] - 2s 25us/step - loss: 0.2553 - val_loss: 0.2546\n",
      "Epoch 28/100\n",
      "60000/60000 [==============================] - 2s 25us/step - loss: 0.2537 - val_loss: 0.2528\n",
      "Epoch 29/100\n",
      "59392/60000 [============================>.] - ETA: 0s - loss: 0.252160000/60000 [==============================] - 2s 26us/step - loss: 0.2521 - val_loss: 0.2513\n",
      "Epoch 30/100\n",
      "60000/60000 [==============================] - 2s 25us/step - loss: 0.2506 - val_loss: 0.2499\n",
      "Epoch 31/100\n",
      "60000/60000 [==============================] - 2s 25us/step - loss: 0.2492 - val_loss: 0.2484\n",
      "Epoch 32/100\n",
      "60000/60000 [==============================] - 2s 25us/step - loss: 0.2478 - val_loss: 0.2471\n",
      "Epoch 33/100\n",
      "60000/60000 [==============================] - 2s 25us/step - loss: 0.2464 - val_loss: 0.2458\n",
      "Epoch 34/100\n",
      "60000/60000 [==============================] - 2s 26us/step - loss: 0.2452 - val_loss: 0.2444\n",
      "Epoch 35/100\n",
      "60000/60000 [==============================] - 2s 26us/step - loss: 0.2439 - val_loss: 0.2432\n",
      "Epoch 36/100\n",
      "57856/60000 [===========================>..] - ETA: 0s - loss: 0.242860000/60000 [==============================] - 2s 25us/step - loss: 0.2427 - val_loss: 0.2420\n",
      "Epoch 37/100\n",
      "60000/60000 [==============================] - 2s 25us/step - loss: 0.2416 - val_loss: 0.2409\n",
      "Epoch 38/100\n",
      "60000/60000 [==============================] - 2s 25us/step - loss: 0.2405 - val_loss: 0.2398\n",
      "Epoch 39/100\n",
      "60000/60000 [==============================] - 2s 25us/step - loss: 0.2394 - val_loss: 0.2387\n",
      "Epoch 40/100\n",
      "60000/60000 [==============================] - 2s 26us/step - loss: 0.2384 - val_loss: 0.2378\n",
      "Epoch 41/100\n",
      "60000/60000 [==============================] - 2s 25us/step - loss: 0.2374 - val_loss: 0.2367\n",
      "Epoch 42/100\n",
      "60000/60000 [==============================] - 2s 26us/step - loss: 0.2364 - val_loss: 0.2359\n",
      "Epoch 43/100\n",
      "59392/60000 [============================>.] - ETA: 0s - loss: 0.235560000/60000 [==============================] - 2s 26us/step - loss: 0.2355 - val_loss: 0.2348\n",
      "Epoch 44/100\n",
      "60000/60000 [==============================] - 2s 25us/step - loss: 0.2346 - val_loss: 0.2339\n",
      "Epoch 45/100\n",
      "60000/60000 [==============================] - 2s 25us/step - loss: 0.2337 - val_loss: 0.2330\n",
      "Epoch 46/100\n",
      "60000/60000 [==============================] - 2s 25us/step - loss: 0.2328 - val_loss: 0.2323\n",
      "Epoch 47/100\n",
      "60000/60000 [==============================] - 2s 25us/step - loss: 0.2320 - val_loss: 0.2313\n",
      "Epoch 48/100\n",
      "60000/60000 [==============================] - 2s 25us/step - loss: 0.2312 - val_loss: 0.2306\n",
      "Epoch 49/100\n",
      "60000/60000 [==============================] - 1s 25us/step - loss: 0.2304 - val_loss: 0.2298\n",
      "Epoch 50/100\n",
      "60000/60000 [==============================] - 2s 25us/step - loss: 0.2297 - val_loss: 0.2291\n",
      "Epoch 51/100\n",
      "60000/60000 [==============================] - 2s 25us/step - loss: 0.2289 - val_loss: 0.2284\n",
      "Epoch 52/100\n",
      "60000/60000 [==============================] - 2s 25us/step - loss: 0.2282 - val_loss: 0.2277\n",
      "Epoch 53/100\n",
      "60000/60000 [==============================] - 2s 25us/step - loss: 0.2275 - val_loss: 0.2270\n",
      "Epoch 54/100\n",
      "60000/60000 [==============================] - 2s 26us/step - loss: 0.2268 - val_loss: 0.2263\n",
      "Epoch 55/100\n",
      "60000/60000 [==============================] - 2s 25us/step - loss: 0.2261 - val_loss: 0.2255\n",
      "Epoch 56/100\n",
      "60000/60000 [==============================] - 2s 25us/step - loss: 0.2254 - val_loss: 0.2250\n",
      "Epoch 57/100\n",
      "60000/60000 [==============================] - 2s 25us/step - loss: 0.2248 - val_loss: 0.2243\n",
      "Epoch 58/100\n",
      "55552/60000 [==========================>...] - ETA: 0s - loss: 0.224260000/60000 [==============================] - 2s 25us/step - loss: 0.2242 - val_loss: 0.2236\n",
      "Epoch 59/100\n",
      "60000/60000 [==============================] - 2s 25us/step - loss: 0.2235 - val_loss: 0.2230\n",
      "Epoch 60/100\n",
      "60000/60000 [==============================] - 2s 25us/step - loss: 0.2229 - val_loss: 0.2225\n",
      "Epoch 61/100\n",
      "60000/60000 [==============================] - 1s 25us/step - loss: 0.2223 - val_loss: 0.2219\n",
      "Epoch 62/100\n",
      "60000/60000 [==============================] - 2s 25us/step - loss: 0.2217 - val_loss: 0.2214\n",
      "Epoch 63/100\n",
      "60000/60000 [==============================] - 2s 25us/step - loss: 0.2212 - val_loss: 0.2206\n",
      "Epoch 64/100\n",
      "60000/60000 [==============================] - 2s 26us/step - loss: 0.2206 - val_loss: 0.2201\n",
      "Epoch 65/100\n",
      "57856/60000 [===========================>..] - ETA: 0s - loss: 0.220160000/60000 [==============================] - 2s 25us/step - loss: 0.2200 - val_loss: 0.2194\n",
      "Epoch 66/100\n",
      "60000/60000 [==============================] - 2s 25us/step - loss: 0.2195 - val_loss: 0.2189\n",
      "Epoch 67/100\n",
      "60000/60000 [==============================] - 2s 26us/step - loss: 0.2190 - val_loss: 0.2184\n",
      "Epoch 68/100\n",
      "60000/60000 [==============================] - 2s 25us/step - loss: 0.2184 - val_loss: 0.2178\n",
      "Epoch 69/100\n",
      "60000/60000 [==============================] - 2s 26us/step - loss: 0.2179 - val_loss: 0.2173\n",
      "Epoch 70/100\n",
      "60000/60000 [==============================] - 2s 26us/step - loss: 0.2174 - val_loss: 0.2168\n",
      "Epoch 71/100\n",
      "60000/60000 [==============================] - 2s 25us/step - loss: 0.2169 - val_loss: 0.2163\n",
      "Epoch 72/100\n"
     ]
    },
    {
     "name": "stdout",
     "output_type": "stream",
     "text": [
      "59648/60000 [============================>.] - ETA: 0s - loss: 0.216460000/60000 [==============================] - 2s 26us/step - loss: 0.2164 - val_loss: 0.2159\n",
      "Epoch 73/100\n",
      "60000/60000 [==============================] - 2s 26us/step - loss: 0.2159 - val_loss: 0.2154\n",
      "Epoch 74/100\n",
      "60000/60000 [==============================] - 2s 25us/step - loss: 0.2154 - val_loss: 0.2149\n",
      "Epoch 75/100\n",
      "60000/60000 [==============================] - 2s 25us/step - loss: 0.2150 - val_loss: 0.2144\n",
      "Epoch 76/100\n",
      "60000/60000 [==============================] - 2s 25us/step - loss: 0.2145 - val_loss: 0.2138\n",
      "Epoch 77/100\n",
      "60000/60000 [==============================] - 2s 25us/step - loss: 0.2140 - val_loss: 0.2136\n",
      "Epoch 78/100\n",
      "60000/60000 [==============================] - 2s 25us/step - loss: 0.2136 - val_loss: 0.2130\n",
      "Epoch 79/100\n",
      "60000/60000 [==============================] - 2s 25us/step - loss: 0.2131 - val_loss: 0.2125\n",
      "Epoch 80/100\n",
      "  256/60000 [..............................] - ETA: 2s - loss: 0.215960000/60000 [==============================] - 2s 25us/step - loss: 0.2127 - val_loss: 0.2120\n",
      "Epoch 81/100\n",
      "60000/60000 [==============================] - 2s 25us/step - loss: 0.2123 - val_loss: 0.2118\n",
      "Epoch 82/100\n",
      "60000/60000 [==============================] - 1s 25us/step - loss: 0.2118 - val_loss: 0.2114\n",
      "Epoch 83/100\n",
      "60000/60000 [==============================] - 2s 25us/step - loss: 0.2114 - val_loss: 0.2109\n",
      "Epoch 84/100\n",
      "60000/60000 [==============================] - 2s 26us/step - loss: 0.2110 - val_loss: 0.2104\n",
      "Epoch 85/100\n",
      "60000/60000 [==============================] - 2s 25us/step - loss: 0.2106 - val_loss: 0.2100\n",
      "Epoch 86/100\n",
      "60000/60000 [==============================] - 2s 25us/step - loss: 0.2102 - val_loss: 0.2095\n",
      "Epoch 87/100\n",
      "60000/60000 [==============================] - 2s 25us/step - loss: 0.2098 - val_loss: 0.2092\n",
      "Epoch 88/100\n",
      "60000/60000 [==============================] - 2s 26us/step - loss: 0.2094 - val_loss: 0.2088\n",
      "Epoch 89/100\n",
      "60000/60000 [==============================] - 1s 25us/step - loss: 0.2090 - val_loss: 0.2084\n",
      "Epoch 90/100\n",
      "60000/60000 [==============================] - 2s 25us/step - loss: 0.2087 - val_loss: 0.2079\n",
      "Epoch 91/100\n",
      "60000/60000 [==============================] - 2s 26us/step - loss: 0.2083 - val_loss: 0.2078\n",
      "Epoch 92/100\n",
      "60000/60000 [==============================] - 2s 25us/step - loss: 0.2079 - val_loss: 0.2074\n",
      "Epoch 93/100\n",
      "60000/60000 [==============================] - 2s 25us/step - loss: 0.2076 - val_loss: 0.2069\n",
      "Epoch 94/100\n",
      "25088/60000 [===========>..................] - ETA: 0s - loss: 0.206960000/60000 [==============================] - 1s 25us/step - loss: 0.2072 - val_loss: 0.2068\n",
      "Epoch 95/100\n",
      "60000/60000 [==============================] - 2s 25us/step - loss: 0.2068 - val_loss: 0.2065\n",
      "Epoch 96/100\n",
      "60000/60000 [==============================] - 2s 25us/step - loss: 0.2065 - val_loss: 0.2059\n",
      "Epoch 97/100\n",
      "60000/60000 [==============================] - 2s 25us/step - loss: 0.2062 - val_loss: 0.2058\n",
      "Epoch 98/100\n",
      "60000/60000 [==============================] - 2s 26us/step - loss: 0.2058 - val_loss: 0.2054\n",
      "Epoch 99/100\n",
      "60000/60000 [==============================] - 2s 25us/step - loss: 0.2055 - val_loss: 0.2050\n",
      "Epoch 100/100\n",
      "60000/60000 [==============================] - 2s 25us/step - loss: 0.2052 - val_loss: 0.2043\n"
     ]
    }
   ],
   "source": [
    "encoded_imgs_2, decoded_imgs_2 = single_layer_autoencoder_with_sparsity_constraint(x_train, x_test)"
   ]
  },
  {
   "cell_type": "code",
   "execution_count": 60,
   "metadata": {
    "colab": {
     "autoexec": {
      "startup": false,
      "wait_interval": 0
     },
     "base_uri": "https://localhost:8080/",
     "height": 228,
     "output_extras": [
      {
       "item_id": 1
      }
     ]
    },
    "colab_type": "code",
    "executionInfo": {
     "elapsed": 1647,
     "status": "ok",
     "timestamp": 1519386471720,
     "user": {
      "displayName": "Mateusz Ochał",
      "photoUrl": "https://lh3.googleusercontent.com/a/default-user=s128",
      "userId": "114698943800149961987"
     },
     "user_tz": 0
    },
    "id": "btRArJ3ig9fN",
    "outputId": "76647d7a-e145-4823-d5e9-4dcbf1ae0926"
   },
   "outputs": [
    {
     "data": {
      "image/png": "[encoded data removed]",
      "text/plain": [
       "<matplotlib.figure.Figure at 0x7f34e36b1e48>"
      ]
     },
     "metadata": {
      "tags": []
     },
     "output_type": "display_data"
    }
   ],
   "source": [
    "draw_decoded_images(x_test, decoded_imgs_2)"
   ]
  },
  {
   "cell_type": "code",
   "execution_count": 1,
   "metadata": {
    "colab": {
     "autoexec": {
      "startup": false,
      "wait_interval": 0
     }
    },
    "colab_type": "code",
    "id": "d0VNrK7SixNW"
   },
   "outputs": [],
   "source": [
    "def deep_layer_autoencoder(x_train, x_test, init_image_dim=784, encoding_dim=32, epochs=100):\n",
    "  \"\"\"\n",
    "  params:\n",
    "  > encoding_dim: this is the size of our encoded representations\n",
    "  \"\"\"\n",
    "  from keras.models import Sequential\n",
    "  from keras.layers import Dense\n",
    "  \n",
    "  encoded1 = Dense(128, activation='relu', input_shape=(init_image_dim,))\n",
    "  encoded2 = Dense(64, activation='relu')\n",
    "  encoded3 = Dense(encoding_dim, activation='relu')\n",
    "  \n",
    "  decoded1 = Dense(64, activation='relu', input_shape=(encoding_dim,))\n",
    "  decoded2 = Dense(128, activation='relu')\n",
    "  decoded3 = Dense(init_image_dim, activation='sigmoid')\n",
    "  \n",
    "  autoencoder = Sequential([encoded1, encoded2, encoded3, decoded1, decoded2, decoded3])\n",
    "  encoder = Sequential([encoded1, encoded2, encoded3])\n",
    "  decoder = Sequential([decoded1, decoded2, decoded3])\n",
    "  \n",
    "  autoencoder.compile(optimizer='adadelta', loss='binary_crossentropy')\n",
    "  \n",
    "  autoencoder.fit(x_train, x_train,\n",
    "                  epochs=epochs,\n",
    "                  batch_size=256,\n",
    "                  shuffle=True,\n",
    "                  validation_data=(x_test, x_test))\n",
    "  \n",
    "  # encode and decode some digits\n",
    "  # note that we take them from the *test* set\n",
    "  encoded_imgs = encoder.predict(x_test)\n",
    "  decoded_imgs = decoder.predict(encoded_imgs)\n",
    "  return encoded_imgs, decoded_imgs"
   ]
  },
  {
   "cell_type": "code",
   "execution_count": 2,
   "metadata": {
    "colab": {
     "autoexec": {
      "startup": false,
      "wait_interval": 0
     },
     "base_uri": "https://localhost:8080/",
     "height": 1493,
     "output_extras": [
      {
       "item_id": 21
      },
      {
       "item_id": 22
      }
     ]
    },
    "colab_type": "code",
    "executionInfo": {
     "elapsed": 6286,
     "status": "error",
     "timestamp": 1519655475164,
     "user": {
      "displayName": "Mateusz Ochał",
      "photoUrl": "https://lh3.googleusercontent.com/a/default-user=s128",
      "userId": "114698943800149961987"
     },
     "user_tz": 0
    },
    "id": "83uvtu4vmm3a",
    "outputId": "f8f0b3cb-92e1-4377-ecf7-78027d02e4cb"
   },
   "outputs": [
    {
     "ename": "NameError",
     "evalue": "name 'x_train' is not defined",
     "output_type": "error",
     "traceback": [
      "\u001b[0;31m---------------------------------------------------------------------------\u001b[0m",
      "\u001b[0;31mNameError\u001b[0m                                 Traceback (most recent call last)",
      "\u001b[0;32m<ipython-input-2-f11e60537952>\u001b[0m in \u001b[0;36m<module>\u001b[0;34m()\u001b[0m\n\u001b[0;32m----> 1\u001b[0;31m \u001b[0mencoded_imgs_3\u001b[0m\u001b[0;34m,\u001b[0m \u001b[0mdecoded_imgs_3\u001b[0m \u001b[0;34m=\u001b[0m \u001b[0mdeep_layer_autoencoder\u001b[0m\u001b[0;34m(\u001b[0m\u001b[0mx_train\u001b[0m\u001b[0;34m,\u001b[0m \u001b[0mx_test\u001b[0m\u001b[0;34m)\u001b[0m\u001b[0;34m\u001b[0m\u001b[0m\n\u001b[0m",
      "\u001b[0;31mNameError\u001b[0m: name 'x_train' is not defined"
     ]
    }
   ],
   "source": [
    "encoded_imgs_3, decoded_imgs_3 = deep_layer_autoencoder(x_train, x_test)"
   ]
  },
  {
   "cell_type": "code",
   "execution_count": 51,
   "metadata": {
    "colab": {
     "autoexec": {
      "startup": false,
      "wait_interval": 0
     },
     "base_uri": "https://localhost:8080/",
     "height": 228,
     "output_extras": [
      {
       "item_id": 1
      }
     ]
    },
    "colab_type": "code",
    "executionInfo": {
     "elapsed": 1556,
     "status": "ok",
     "timestamp": 1519386125998,
     "user": {
      "displayName": "Mateusz Ochał",
      "photoUrl": "https://lh3.googleusercontent.com/a/default-user=s128",
      "userId": "114698943800149961987"
     },
     "user_tz": 0
    },
    "id": "be_uBj8cyQ12",
    "outputId": "4b6b9146-3270-4485-ab53-e9c08f463ef1"
   },
   "outputs": [
    {
     "data": {
      "image/png": "[encoded data removed]",
      "text/plain": [
       "<matplotlib.figure.Figure at 0x7f34e6fbb518>"
      ]
     },
     "metadata": {
      "tags": []
     },
     "output_type": "display_data"
    }
   ],
   "source": [
    "draw_decoded_images(x_test, decoded_imgs_3)"
   ]
  },
  {
   "cell_type": "code",
   "execution_count": 0,
   "metadata": {
    "colab": {
     "autoexec": {
      "startup": false,
      "wait_interval": 0
     }
    },
    "colab_type": "code",
    "id": "SfxgLa-9msd_"
   },
   "outputs": [],
   "source": [
    "def cnn_autoencoder(x_train, x_test, init_image_dim=(28, 28, 1), encoding_dim=(4, 4, 8), epochs=50):\n",
    "    from keras.layers import Input, Dense, Conv2D, MaxPooling2D, UpSampling2D\n",
    "    from keras.models import Sequential\n",
    "    from keras import backend as K\n",
    "\n",
    "    conv1 = Conv2D(16, (3, 3), activation='relu', padding='same', input_shape=init_image_dim)\n",
    "    maxp1 = MaxPooling2D((2, 2), padding='same')\n",
    "    conv2 = Conv2D(8, (3, 3), activation='relu', padding='same')\n",
    "    maxp2 = MaxPooling2D((2, 2), padding='same')\n",
    "    conv3 = Conv2D(8, (3, 3), activation='relu', padding='same')\n",
    "    encoded = MaxPooling2D((2, 2), padding='same')\n",
    "\n",
    "    # at this point the representation is (4, 4, 8) i.e. 128-dimensional\n",
    "\n",
    "    conv4 = Conv2D(8, (3, 3), activation='relu', padding='same', input_shape=encoding_dim)\n",
    "    upsa1 = UpSampling2D((2, 2))\n",
    "    conv5 = Conv2D(8, (3, 3), activation='relu', padding='same')\n",
    "    upsa2 = UpSampling2D((2, 2))\n",
    "    conv6 = Conv2D(16, (3, 3), activation='relu')\n",
    "    upsa3 = UpSampling2D((2, 2))\n",
    "    decoded = Conv2D(1, (3, 3), activation='sigmoid', padding='same')\n",
    "\n",
    "    autoencoder = Sequential([conv1, maxp1, conv2, maxp2, conv3, encoded,\n",
    "                            conv4, upsa1, conv5, upsa2, conv6, upsa3, decoded])\n",
    "    encoder = Sequential([conv1, maxp1, conv2, maxp2, conv3, encoded])\n",
    "    decoder = Sequential([conv4, upsa1, conv5, upsa2, conv6, upsa3, decoded])\n",
    "\n",
    "    autoencoder.compile(optimizer='adadelta', loss='binary_crossentropy')\n",
    "\n",
    "    autoencoder.fit(x_train, x_train,\n",
    "                  epochs=epochs,\n",
    "                  batch_size=128,\n",
    "                  shuffle=True,\n",
    "                  validation_data=(x_test, x_test))\n",
    "\n",
    "    # encode and decode some digits\n",
    "    # note that we take them from the *test* set\n",
    "    encoded_imgs = encoder.predict(x_test)\n",
    "    decoded_imgs = decoder.predict(encoded_imgs)\n",
    "    return encoded_imgs, decoded_imgs\n",
    "  "
   ]
  },
  {
   "cell_type": "code",
   "execution_count": 71,
   "metadata": {
    "colab": {
     "autoexec": {
      "startup": false,
      "wait_interval": 0
     },
     "base_uri": "https://localhost:8080/",
     "height": 224,
     "output_extras": [
      {
       "item_id": 102
      },
      {
       "item_id": 162
      }
     ]
    },
    "colab_type": "code",
    "executionInfo": {
     "elapsed": 43787,
     "status": "ok",
     "timestamp": 1519387456534,
     "user": {
      "displayName": "Mateusz Ochał",
      "photoUrl": "https://lh3.googleusercontent.com/a/default-user=s128",
      "userId": "114698943800149961987"
     },
     "user_tz": 0
    },
    "id": "qbhFq89UsYQ7",
    "outputId": "090c1562-8664-4afc-f903-d3e3d86e7795"
   },
   "outputs": [
    {
     "name": "stdout",
     "output_type": "stream",
     "text": [
      "Train on 60000 samples, validate on 10000 samples\n",
      "Epoch 1/5\n",
      "60000/60000 [==============================] - 9s 151us/step - loss: 0.2126 - val_loss: 0.1654\n",
      "Epoch 2/5\n",
      "60000/60000 [==============================] - 8s 133us/step - loss: 0.1534 - val_loss: 0.1419\n",
      "Epoch 3/5\n",
      "60000/60000 [==============================] - 8s 134us/step - loss: 0.1388 - val_loss: 0.1343\n",
      "Epoch 4/5\n",
      " 7040/60000 [==>...........................] - ETA: 6s - loss: 0.133760000/60000 [==============================] - 8s 133us/step - loss: 0.1311 - val_loss: 0.1300\n",
      "Epoch 5/5\n",
      "60000/60000 [==============================] - 8s 134us/step - loss: 0.1260 - val_loss: 0.1242\n"
     ]
    }
   ],
   "source": [
    "x_train_cnn = np.reshape(x_train, (len(x_train), 28, 28, 1))  # adapt this if using `channels_first` image data format\n",
    "x_test_cnn = np.reshape(x_test, (len(x_test), 28, 28, 1))  # adapt this if using `channels_first` image data format\n",
    "\n",
    "encoded_imgs_4, decoded_imgs_4 = cnn_autoencoder(x_train_cnn, x_test_cnn)"
   ]
  },
  {
   "cell_type": "code",
   "execution_count": 72,
   "metadata": {
    "colab": {
     "autoexec": {
      "startup": false,
      "wait_interval": 0
     },
     "base_uri": "https://localhost:8080/",
     "height": 228,
     "output_extras": [
      {
       "item_id": 1
      }
     ]
    },
    "colab_type": "code",
    "executionInfo": {
     "elapsed": 1776,
     "status": "ok",
     "timestamp": 1519387460877,
     "user": {
      "displayName": "Mateusz Ochał",
      "photoUrl": "https://lh3.googleusercontent.com/a/default-user=s128",
      "userId": "114698943800149961987"
     },
     "user_tz": 0
    },
    "id": "58QO5PlqyVAo",
    "outputId": "7929dfc4-0e9e-4d1e-b4b0-7a88bdede7e1"
   },
   "outputs": [
    {
     "data": {
      "image/png": "[encoded data removed]",
      "text/plain": [
       "<matplotlib.figure.Figure at 0x7f34e06121d0>"
      ]
     },
     "metadata": {
      "tags": []
     },
     "output_type": "display_data"
    }
   ],
   "source": [
    "draw_decoded_images(x_test, decoded_imgs_4)"
   ]
  },
  {
   "cell_type": "code",
   "execution_count": 0,
   "metadata": {
    "colab": {
     "autoexec": {
      "startup": false,
      "wait_interval": 0
     }
    },
    "colab_type": "code",
    "id": "56Ba3eyssWFj"
   },
   "outputs": [],
   "source": [
    "def visualise_encoded_cnn(encoded_imgs, n=12):\n",
    "    plt.figure(figsize=(20, 8))\n",
    "    for i in range(n):\n",
    "        ax = plt.subplot(1, n, i+1)\n",
    "        plt.imshow(encoded_imgs[i].reshape(4, 4 * 8).T)\n",
    "        plt.gray()\n",
    "        ax.get_xaxis().set_visible(False)\n",
    "        ax.get_yaxis().set_visible(False)\n",
    "    plt.show()"
   ]
  },
  {
   "cell_type": "code",
   "execution_count": 82,
   "metadata": {
    "colab": {
     "autoexec": {
      "startup": false,
      "wait_interval": 0
     },
     "base_uri": "https://localhost:8080/",
     "height": 466,
     "output_extras": [
      {
       "item_id": 1
      }
     ]
    },
    "colab_type": "code",
    "executionInfo": {
     "elapsed": 1359,
     "status": "ok",
     "timestamp": 1519388090767,
     "user": {
      "displayName": "Mateusz Ochał",
      "photoUrl": "https://lh3.googleusercontent.com/a/default-user=s128",
      "userId": "114698943800149961987"
     },
     "user_tz": 0
    },
    "id": "KpANvSZLyEgh",
    "outputId": "8d4e761b-ea6b-4fb4-bae1-3aaea030cf6e"
   },
   "outputs": [
    {
     "data": {
      "image/png": "[encoded data removed]",
      "text/plain": [
       "<matplotlib.figure.Figure at 0x7f34dfd40630>"
      ]
     },
     "metadata": {
      "tags": []
     },
     "output_type": "display_data"
    }
   ],
   "source": [
    "visualise_encoded_cnn(encoded_imgs_4)"
   ]
  },
  {
   "cell_type": "code",
   "execution_count": 0,
   "metadata": {
    "colab": {
     "autoexec": {
      "startup": false,
      "wait_interval": 0
     }
    },
    "colab_type": "code",
    "id": "yNnAY40Fp-Za"
   },
   "outputs": [],
   "source": [
    "def cnn_denoising_model(x_train, x_test, x_train_noisy, x_test_noisy, init_image_dim=(28, 28, 1), encoding_dim=(7, 7, 32), epochs=50):\n",
    "    from keras.layers import Input, Dense, Conv2D, MaxPooling2D, UpSampling2D\n",
    "    from keras.models import Sequential\n",
    "    from keras import backend as K\n",
    "\n",
    "    conv1 = Conv2D(32, (3, 3), activation='relu', padding='same', input_shape=init_image_dim)\n",
    "    maxp1 = MaxPooling2D((2, 2), padding='same')\n",
    "    conv2 = Conv2D(32, (3, 3), activation='relu', padding='same')\n",
    "    encoded = MaxPooling2D((2, 2), padding='same')\n",
    "\n",
    "    # at this point the representation is (4, 4, 8) i.e. 128-dimensional\n",
    "\n",
    "    conv3 = Conv2D(32, (3, 3), activation='relu', padding='same', input_shape=encoding_dim)\n",
    "    upsa1 = UpSampling2D((2, 2))\n",
    "    conv4 = Conv2D(32, (3, 3), activation='relu', padding='same')\n",
    "    upsa2 = UpSampling2D((2, 2))\n",
    "    decoded = Conv2D(1, (3, 3), activation='sigmoid', padding='same')\n",
    "\n",
    "    autoencoder = Sequential([conv1, maxp1, conv2, encoded,\n",
    "                            conv3, upsa1, conv4, upsa2, decoded])\n",
    "    encoder = Sequential([conv1, maxp1, conv2, encoded])\n",
    "    decoder = Sequential([conv3, upsa1, conv4, upsa2, decoded])\n",
    "\n",
    "    autoencoder.compile(optimizer='adadelta', loss='binary_crossentropy')\n",
    "\n",
    "    autoencoder.fit(x_train_noisy, x_train,\n",
    "                  epochs=epochs,\n",
    "                  batch_size=128,\n",
    "                  shuffle=True,\n",
    "                  validation_data=(x_test_noisy, x_test))\n",
    "\n",
    "    # encode and decode some digits\n",
    "    # note that we take them from the *test* set\n",
    "    encoded_imgs = encoder.predict(x_test)\n",
    "    decoded_imgs = decoder.predict(encoded_imgs)\n",
    "    return encoded_imgs, decoded_imgs"
   ]
  },
  {
   "cell_type": "code",
   "execution_count": 155,
   "metadata": {
    "colab": {
     "autoexec": {
      "startup": false,
      "wait_interval": 0
     },
     "base_uri": "https://localhost:8080/",
     "height": 1459,
     "output_extras": [
      {
       "item_id": 10
      },
      {
       "item_id": 11
      }
     ]
    },
    "colab_type": "code",
    "executionInfo": {
     "elapsed": 7444,
     "status": "error",
     "timestamp": 1519402160433,
     "user": {
      "displayName": "Mateusz Ochał",
      "photoUrl": "https://lh3.googleusercontent.com/a/default-user=s128",
      "userId": "114698943800149961987"
     },
     "user_tz": 0
    },
    "id": "dvqExnyXr1By",
    "outputId": "55e3c157-36bb-421d-df6e-7fab6ad2dc57"
   },
   "outputs": [
    {
     "name": "stdout",
     "output_type": "stream",
     "text": [
      "Train on 60000 samples, validate on 10000 samples\n",
      "Epoch 1/10\n",
      "12032/60000 [=====>........................] - ETA: 12s - loss: 0.3569"
     ]
    },
    {
     "ename": "KeyboardInterrupt",
     "evalue": "ignored",
     "output_type": "error",
     "traceback": [
      "\u001b[0;31m---------------------------------------------------------------------------\u001b[0m",
      "\u001b[0;31mKeyboardInterrupt\u001b[0m                         Traceback (most recent call last)",
      "\u001b[0;32m<ipython-input-155-c548afc7e838>\u001b[0m in \u001b[0;36m<module>\u001b[0;34m()\u001b[0m\n\u001b[1;32m      5\u001b[0m \u001b[0mx_test_cnn_noisy\u001b[0m \u001b[0;34m=\u001b[0m \u001b[0mnp\u001b[0m\u001b[0;34m.\u001b[0m\u001b[0mclip\u001b[0m\u001b[0;34m(\u001b[0m\u001b[0mx_test_cnn_noisy\u001b[0m\u001b[0;34m,\u001b[0m \u001b[0;36m0.\u001b[0m\u001b[0;34m,\u001b[0m \u001b[0;36m1.\u001b[0m\u001b[0;34m)\u001b[0m\u001b[0;34m\u001b[0m\u001b[0m\n\u001b[1;32m      6\u001b[0m \u001b[0;34m\u001b[0m\u001b[0m\n\u001b[0;32m----> 7\u001b[0;31m \u001b[0mencoded_imgs_5\u001b[0m\u001b[0;34m,\u001b[0m \u001b[0mdecoded_imgs_5\u001b[0m \u001b[0;34m=\u001b[0m \u001b[0mcnn_denoising_model\u001b[0m\u001b[0;34m(\u001b[0m\u001b[0mx_train_cnn\u001b[0m\u001b[0;34m,\u001b[0m \u001b[0mx_test_cnn\u001b[0m\u001b[0;34m,\u001b[0m \u001b[0mx_train_cnn_noisy\u001b[0m\u001b[0;34m,\u001b[0m \u001b[0mx_test_cnn_noisy\u001b[0m\u001b[0;34m,\u001b[0m \u001b[0mepochs\u001b[0m\u001b[0;34m=\u001b[0m\u001b[0;36m10\u001b[0m\u001b[0;34m)\u001b[0m\u001b[0;34m\u001b[0m\u001b[0m\n\u001b[0m",
      "\u001b[0;32m<ipython-input-118-013af0bb6234>\u001b[0m in \u001b[0;36mcnn_denoising_model\u001b[0;34m(x_train, x_test, x_train_noisy, x_test_noisy, init_image_dim, encoding_dim, epochs)\u001b[0m\n\u001b[1;32m     28\u001b[0m                   \u001b[0mbatch_size\u001b[0m\u001b[0;34m=\u001b[0m\u001b[0;36m128\u001b[0m\u001b[0;34m,\u001b[0m\u001b[0;34m\u001b[0m\u001b[0m\n\u001b[1;32m     29\u001b[0m                   \u001b[0mshuffle\u001b[0m\u001b[0;34m=\u001b[0m\u001b[0;32mTrue\u001b[0m\u001b[0;34m,\u001b[0m\u001b[0;34m\u001b[0m\u001b[0m\n\u001b[0;32m---> 30\u001b[0;31m                   validation_data=(x_test_noisy, x_test))\n\u001b[0m\u001b[1;32m     31\u001b[0m \u001b[0;34m\u001b[0m\u001b[0m\n\u001b[1;32m     32\u001b[0m   \u001b[0;31m# encode and decode some digits\u001b[0m\u001b[0;34m\u001b[0m\u001b[0;34m\u001b[0m\u001b[0m\n",
      "\u001b[0;32m/usr/local/lib/python3.6/dist-packages/keras/models.py\u001b[0m in \u001b[0;36mfit\u001b[0;34m(self, x, y, batch_size, epochs, verbose, callbacks, validation_split, validation_data, shuffle, class_weight, sample_weight, initial_epoch, steps_per_epoch, validation_steps, **kwargs)\u001b[0m\n\u001b[1;32m    961\u001b[0m                               \u001b[0minitial_epoch\u001b[0m\u001b[0;34m=\u001b[0m\u001b[0minitial_epoch\u001b[0m\u001b[0;34m,\u001b[0m\u001b[0;34m\u001b[0m\u001b[0m\n\u001b[1;32m    962\u001b[0m                               \u001b[0msteps_per_epoch\u001b[0m\u001b[0;34m=\u001b[0m\u001b[0msteps_per_epoch\u001b[0m\u001b[0;34m,\u001b[0m\u001b[0;34m\u001b[0m\u001b[0m\n\u001b[0;32m--> 963\u001b[0;31m                               validation_steps=validation_steps)\n\u001b[0m\u001b[1;32m    964\u001b[0m \u001b[0;34m\u001b[0m\u001b[0m\n\u001b[1;32m    965\u001b[0m     def evaluate(self, x=None, y=None,\n",
      "\u001b[0;32m/usr/local/lib/python3.6/dist-packages/keras/engine/training.py\u001b[0m in \u001b[0;36mfit\u001b[0;34m(self, x, y, batch_size, epochs, verbose, callbacks, validation_split, validation_data, shuffle, class_weight, sample_weight, initial_epoch, steps_per_epoch, validation_steps, **kwargs)\u001b[0m\n\u001b[1;32m   1710\u001b[0m                               \u001b[0minitial_epoch\u001b[0m\u001b[0;34m=\u001b[0m\u001b[0minitial_epoch\u001b[0m\u001b[0;34m,\u001b[0m\u001b[0;34m\u001b[0m\u001b[0m\n\u001b[1;32m   1711\u001b[0m                               \u001b[0msteps_per_epoch\u001b[0m\u001b[0;34m=\u001b[0m\u001b[0msteps_per_epoch\u001b[0m\u001b[0;34m,\u001b[0m\u001b[0;34m\u001b[0m\u001b[0m\n\u001b[0;32m-> 1712\u001b[0;31m                               validation_steps=validation_steps)\n\u001b[0m\u001b[1;32m   1713\u001b[0m \u001b[0;34m\u001b[0m\u001b[0m\n\u001b[1;32m   1714\u001b[0m     def evaluate(self, x=None, y=None,\n",
      "\u001b[0;32m/usr/local/lib/python3.6/dist-packages/keras/engine/training.py\u001b[0m in \u001b[0;36m_fit_loop\u001b[0;34m(self, f, ins, out_labels, batch_size, epochs, verbose, callbacks, val_f, val_ins, shuffle, callback_metrics, initial_epoch, steps_per_epoch, validation_steps)\u001b[0m\n\u001b[1;32m   1233\u001b[0m                         \u001b[0mins_batch\u001b[0m\u001b[0;34m[\u001b[0m\u001b[0mi\u001b[0m\u001b[0;34m]\u001b[0m \u001b[0;34m=\u001b[0m \u001b[0mins_batch\u001b[0m\u001b[0;34m[\u001b[0m\u001b[0mi\u001b[0m\u001b[0;34m]\u001b[0m\u001b[0;34m.\u001b[0m\u001b[0mtoarray\u001b[0m\u001b[0;34m(\u001b[0m\u001b[0;34m)\u001b[0m\u001b[0;34m\u001b[0m\u001b[0m\n\u001b[1;32m   1234\u001b[0m \u001b[0;34m\u001b[0m\u001b[0m\n\u001b[0;32m-> 1235\u001b[0;31m                     \u001b[0mouts\u001b[0m \u001b[0;34m=\u001b[0m \u001b[0mf\u001b[0m\u001b[0;34m(\u001b[0m\u001b[0mins_batch\u001b[0m\u001b[0;34m)\u001b[0m\u001b[0;34m\u001b[0m\u001b[0m\n\u001b[0m\u001b[1;32m   1236\u001b[0m                     \u001b[0;32mif\u001b[0m \u001b[0;32mnot\u001b[0m \u001b[0misinstance\u001b[0m\u001b[0;34m(\u001b[0m\u001b[0mouts\u001b[0m\u001b[0;34m,\u001b[0m \u001b[0mlist\u001b[0m\u001b[0;34m)\u001b[0m\u001b[0;34m:\u001b[0m\u001b[0;34m\u001b[0m\u001b[0m\n\u001b[1;32m   1237\u001b[0m                         \u001b[0mouts\u001b[0m \u001b[0;34m=\u001b[0m \u001b[0;34m[\u001b[0m\u001b[0mouts\u001b[0m\u001b[0;34m]\u001b[0m\u001b[0;34m\u001b[0m\u001b[0m\n",
      "\u001b[0;32m/usr/local/lib/python3.6/dist-packages/keras/backend/tensorflow_backend.py\u001b[0m in \u001b[0;36m__call__\u001b[0;34m(self, inputs)\u001b[0m\n\u001b[1;32m   2473\u001b[0m         \u001b[0msession\u001b[0m \u001b[0;34m=\u001b[0m \u001b[0mget_session\u001b[0m\u001b[0;34m(\u001b[0m\u001b[0;34m)\u001b[0m\u001b[0;34m\u001b[0m\u001b[0m\n\u001b[1;32m   2474\u001b[0m         updated = session.run(fetches=fetches, feed_dict=feed_dict,\n\u001b[0;32m-> 2475\u001b[0;31m                               **self.session_kwargs)\n\u001b[0m\u001b[1;32m   2476\u001b[0m         \u001b[0;32mreturn\u001b[0m \u001b[0mupdated\u001b[0m\u001b[0;34m[\u001b[0m\u001b[0;34m:\u001b[0m\u001b[0mlen\u001b[0m\u001b[0;34m(\u001b[0m\u001b[0mself\u001b[0m\u001b[0;34m.\u001b[0m\u001b[0moutputs\u001b[0m\u001b[0;34m)\u001b[0m\u001b[0;34m]\u001b[0m\u001b[0;34m\u001b[0m\u001b[0m\n\u001b[1;32m   2477\u001b[0m \u001b[0;34m\u001b[0m\u001b[0m\n",
      "\u001b[0;32m/usr/local/lib/python3.6/dist-packages/tensorflow/python/client/session.py\u001b[0m in \u001b[0;36mrun\u001b[0;34m(self, fetches, feed_dict, options, run_metadata)\u001b[0m\n\u001b[1;32m    903\u001b[0m     \u001b[0;32mtry\u001b[0m\u001b[0;34m:\u001b[0m\u001b[0;34m\u001b[0m\u001b[0m\n\u001b[1;32m    904\u001b[0m       result = self._run(None, fetches, feed_dict, options_ptr,\n\u001b[0;32m--> 905\u001b[0;31m                          run_metadata_ptr)\n\u001b[0m\u001b[1;32m    906\u001b[0m       \u001b[0;32mif\u001b[0m \u001b[0mrun_metadata\u001b[0m\u001b[0;34m:\u001b[0m\u001b[0;34m\u001b[0m\u001b[0m\n\u001b[1;32m    907\u001b[0m         \u001b[0mproto_data\u001b[0m \u001b[0;34m=\u001b[0m \u001b[0mtf_session\u001b[0m\u001b[0;34m.\u001b[0m\u001b[0mTF_GetBuffer\u001b[0m\u001b[0;34m(\u001b[0m\u001b[0mrun_metadata_ptr\u001b[0m\u001b[0;34m)\u001b[0m\u001b[0;34m\u001b[0m\u001b[0m\n",
      "\u001b[0;32m/usr/local/lib/python3.6/dist-packages/tensorflow/python/client/session.py\u001b[0m in \u001b[0;36m_run\u001b[0;34m(self, handle, fetches, feed_dict, options, run_metadata)\u001b[0m\n\u001b[1;32m   1135\u001b[0m     \u001b[0;32mif\u001b[0m \u001b[0mfinal_fetches\u001b[0m \u001b[0;32mor\u001b[0m \u001b[0mfinal_targets\u001b[0m \u001b[0;32mor\u001b[0m \u001b[0;34m(\u001b[0m\u001b[0mhandle\u001b[0m \u001b[0;32mand\u001b[0m \u001b[0mfeed_dict_tensor\u001b[0m\u001b[0;34m)\u001b[0m\u001b[0;34m:\u001b[0m\u001b[0;34m\u001b[0m\u001b[0m\n\u001b[1;32m   1136\u001b[0m       results = self._do_run(handle, final_targets, final_fetches,\n\u001b[0;32m-> 1137\u001b[0;31m                              feed_dict_tensor, options, run_metadata)\n\u001b[0m\u001b[1;32m   1138\u001b[0m     \u001b[0;32melse\u001b[0m\u001b[0;34m:\u001b[0m\u001b[0;34m\u001b[0m\u001b[0m\n\u001b[1;32m   1139\u001b[0m       \u001b[0mresults\u001b[0m \u001b[0;34m=\u001b[0m \u001b[0;34m[\u001b[0m\u001b[0;34m]\u001b[0m\u001b[0;34m\u001b[0m\u001b[0m\n",
      "\u001b[0;32m/usr/local/lib/python3.6/dist-packages/tensorflow/python/client/session.py\u001b[0m in \u001b[0;36m_do_run\u001b[0;34m(self, handle, target_list, fetch_list, feed_dict, options, run_metadata)\u001b[0m\n\u001b[1;32m   1353\u001b[0m     \u001b[0;32mif\u001b[0m \u001b[0mhandle\u001b[0m \u001b[0;32mis\u001b[0m \u001b[0;32mNone\u001b[0m\u001b[0;34m:\u001b[0m\u001b[0;34m\u001b[0m\u001b[0m\n\u001b[1;32m   1354\u001b[0m       return self._do_call(_run_fn, self._session, feeds, fetches, targets,\n\u001b[0;32m-> 1355\u001b[0;31m                            options, run_metadata)\n\u001b[0m\u001b[1;32m   1356\u001b[0m     \u001b[0;32melse\u001b[0m\u001b[0;34m:\u001b[0m\u001b[0;34m\u001b[0m\u001b[0m\n\u001b[1;32m   1357\u001b[0m       \u001b[0;32mreturn\u001b[0m \u001b[0mself\u001b[0m\u001b[0;34m.\u001b[0m\u001b[0m_do_call\u001b[0m\u001b[0;34m(\u001b[0m\u001b[0m_prun_fn\u001b[0m\u001b[0;34m,\u001b[0m \u001b[0mself\u001b[0m\u001b[0;34m.\u001b[0m\u001b[0m_session\u001b[0m\u001b[0;34m,\u001b[0m \u001b[0mhandle\u001b[0m\u001b[0;34m,\u001b[0m \u001b[0mfeeds\u001b[0m\u001b[0;34m,\u001b[0m \u001b[0mfetches\u001b[0m\u001b[0;34m)\u001b[0m\u001b[0;34m\u001b[0m\u001b[0m\n",
      "\u001b[0;32m/usr/local/lib/python3.6/dist-packages/tensorflow/python/client/session.py\u001b[0m in \u001b[0;36m_do_call\u001b[0;34m(self, fn, *args)\u001b[0m\n\u001b[1;32m   1359\u001b[0m   \u001b[0;32mdef\u001b[0m \u001b[0m_do_call\u001b[0m\u001b[0;34m(\u001b[0m\u001b[0mself\u001b[0m\u001b[0;34m,\u001b[0m \u001b[0mfn\u001b[0m\u001b[0;34m,\u001b[0m \u001b[0;34m*\u001b[0m\u001b[0margs\u001b[0m\u001b[0;34m)\u001b[0m\u001b[0;34m:\u001b[0m\u001b[0;34m\u001b[0m\u001b[0m\n\u001b[1;32m   1360\u001b[0m     \u001b[0;32mtry\u001b[0m\u001b[0;34m:\u001b[0m\u001b[0;34m\u001b[0m\u001b[0m\n\u001b[0;32m-> 1361\u001b[0;31m       \u001b[0;32mreturn\u001b[0m \u001b[0mfn\u001b[0m\u001b[0;34m(\u001b[0m\u001b[0;34m*\u001b[0m\u001b[0margs\u001b[0m\u001b[0;34m)\u001b[0m\u001b[0;34m\u001b[0m\u001b[0m\n\u001b[0m\u001b[1;32m   1362\u001b[0m     \u001b[0;32mexcept\u001b[0m \u001b[0merrors\u001b[0m\u001b[0;34m.\u001b[0m\u001b[0mOpError\u001b[0m \u001b[0;32mas\u001b[0m \u001b[0me\u001b[0m\u001b[0;34m:\u001b[0m\u001b[0;34m\u001b[0m\u001b[0m\n\u001b[1;32m   1363\u001b[0m       \u001b[0mmessage\u001b[0m \u001b[0;34m=\u001b[0m \u001b[0mcompat\u001b[0m\u001b[0;34m.\u001b[0m\u001b[0mas_text\u001b[0m\u001b[0;34m(\u001b[0m\u001b[0me\u001b[0m\u001b[0;34m.\u001b[0m\u001b[0mmessage\u001b[0m\u001b[0;34m)\u001b[0m\u001b[0;34m\u001b[0m\u001b[0m\n",
      "\u001b[0;32m/usr/local/lib/python3.6/dist-packages/tensorflow/python/client/session.py\u001b[0m in \u001b[0;36m_run_fn\u001b[0;34m(session, feed_dict, fetch_list, target_list, options, run_metadata)\u001b[0m\n\u001b[1;32m   1338\u001b[0m         \u001b[0;32melse\u001b[0m\u001b[0;34m:\u001b[0m\u001b[0;34m\u001b[0m\u001b[0m\n\u001b[1;32m   1339\u001b[0m           return tf_session.TF_Run(session, options, feed_dict, fetch_list,\n\u001b[0;32m-> 1340\u001b[0;31m                                    target_list, status, run_metadata)\n\u001b[0m\u001b[1;32m   1341\u001b[0m \u001b[0;34m\u001b[0m\u001b[0m\n\u001b[1;32m   1342\u001b[0m     \u001b[0;32mdef\u001b[0m \u001b[0m_prun_fn\u001b[0m\u001b[0;34m(\u001b[0m\u001b[0msession\u001b[0m\u001b[0;34m,\u001b[0m \u001b[0mhandle\u001b[0m\u001b[0;34m,\u001b[0m \u001b[0mfeed_dict\u001b[0m\u001b[0;34m,\u001b[0m \u001b[0mfetch_list\u001b[0m\u001b[0;34m)\u001b[0m\u001b[0;34m:\u001b[0m\u001b[0;34m\u001b[0m\u001b[0m\n",
      "\u001b[0;31mKeyboardInterrupt\u001b[0m: "
     ]
    }
   ],
   "source": [
    "noise_factor = 0.5\n",
    "x_train_cnn_noisy = x_train_cnn + noise_factor * np.random.normal(loc=0.0, scale=1.0, size=x_train_cnn.shape)\n",
    "x_test_cnn_noisy = x_test_cnn + noise_factor * np.random.normal(loc=0.0, scale=1.0, size=x_test_cnn.shape)\n",
    "x_train_cnn_noisy = np.clip(x_train_cnn_noisy, 0., 1.)\n",
    "x_test_cnn_noisy = np.clip(x_test_cnn_noisy, 0., 1.)\n",
    "\n",
    "encoded_imgs_5, decoded_imgs_5 = cnn_denoising_model(x_train_cnn, x_test_cnn, x_train_cnn_noisy, x_test_cnn_noisy, epochs=10)"
   ]
  },
  {
   "cell_type": "code",
   "execution_count": 98,
   "metadata": {
    "colab": {
     "autoexec": {
      "startup": false,
      "wait_interval": 0
     },
     "base_uri": "https://localhost:8080/",
     "height": 228,
     "output_extras": [
      {
       "item_id": 1
      }
     ]
    },
    "colab_type": "code",
    "executionInfo": {
     "elapsed": 1576,
     "status": "ok",
     "timestamp": 1519391901682,
     "user": {
      "displayName": "Mateusz Ochał",
      "photoUrl": "https://lh3.googleusercontent.com/a/default-user=s128",
      "userId": "114698943800149961987"
     },
     "user_tz": 0
    },
    "id": "w_EsVn2CuhPi",
    "outputId": "336a5ae6-a7b4-4471-9251-4918099bdd96"
   },
   "outputs": [
    {
     "data": {
      "image/png": "[encoded data removed]",
      "text/plain": [
       "<matplotlib.figure.Figure at 0x7f34ddaf03c8>"
      ]
     },
     "metadata": {
      "tags": []
     },
     "output_type": "display_data"
    }
   ],
   "source": [
    "draw_decoded_images(x_test_cnn_noisy, decoded_imgs_4)"
   ]
  },
  {
   "cell_type": "code",
   "execution_count": 140,
   "metadata": {
    "colab": {
     "autoexec": {
      "startup": false,
      "wait_interval": 0
     },
     "base_uri": "https://localhost:8080/",
     "height": 139,
     "output_extras": [
      {
       "item_id": 1
      },
      {
       "item_id": 3
      }
     ]
    },
    "colab_type": "code",
    "executionInfo": {
     "elapsed": 132724,
     "status": "ok",
     "timestamp": 1519401513345,
     "user": {
      "displayName": "Mateusz Ochał",
      "photoUrl": "https://lh3.googleusercontent.com/a/default-user=s128",
      "userId": "114698943800149961987"
     },
     "user_tz": 0
    },
    "id": "kDAR8G-P30NT",
    "outputId": "d1c991e3-359e-4fcd-f08d-59526975d25d"
   },
   "outputs": [
    {
     "name": "stderr",
     "output_type": "stream",
     "text": [
      "/usr/local/lib/python3.6/dist-packages/skimage/transform/_warps.py:84: UserWarning: The default mode, 'constant', will be changed to 'reflect' in skimage 0.15.\n",
      "  warn(\"The default mode, 'constant', will be changed to 'reflect' in \"\n"
     ]
    },
    {
     "name": "stdout",
     "output_type": "stream",
     "text": [
      "(60000, 14, 14, 1)\n",
      "(10000, 14, 14, 1)\n",
      "(60000, 28, 28, 1)\n",
      "(10000, 28, 28, 1)\n"
     ]
    }
   ],
   "source": [
    "from skimage.transform import resize\n",
    "x_train_downscaled = [resize(i, (14, 14), order=1, preserve_range=True) for i in x_train_cnn]\n",
    "x_test_downscaled = [resize(i, (14, 14), order=1, preserve_range=True) for i in x_test_cnn]\n",
    "print(np.shape(x_train_downscaled))\n",
    "print(np.shape(x_test_downscaled))\n",
    "x_train_upscaled = [resize(i, (28, 28), order=1, preserve_range=True) for i in x_train_downscaled]\n",
    "x_test_upscaled = [resize(i, (28, 28), order=1, preserve_range=True) for i in x_test_downscaled]\n",
    "print(np.shape(x_train_upscaled))\n",
    "print(np.shape(x_test_upscaled))"
   ]
  },
  {
   "cell_type": "code",
   "execution_count": 0,
   "metadata": {
    "colab": {
     "autoexec": {
      "startup": false,
      "wait_interval": 0
     }
    },
    "colab_type": "code",
    "id": "G775RquSYf2c"
   },
   "outputs": [],
   "source": [
    "x_train_upscaled = np.clip(x_train_upscaled, 0., 1.)\n",
    "x_test_upscaled = np.clip(x_test_upscaled, 0., 1.)\n",
    "x_train_downscaled = np.clip(x_train_downscaled, 0., 1.)\n",
    "x_test_downscaled = np.clip(x_test_downscaled, 0., 1.)"
   ]
  },
  {
   "cell_type": "code",
   "execution_count": 159,
   "metadata": {
    "colab": {
     "autoexec": {
      "startup": false,
      "wait_interval": 0
     },
     "base_uri": "https://localhost:8080/",
     "height": 394,
     "output_extras": [
      {
       "item_id": 105
      },
      {
       "item_id": 202
      },
      {
       "item_id": 307
      },
      {
       "item_id": 367
      }
     ]
    },
    "colab_type": "code",
    "executionInfo": {
     "elapsed": 99863,
     "status": "ok",
     "timestamp": 1519402464780,
     "user": {
      "displayName": "Mateusz Ochał",
      "photoUrl": "https://lh3.googleusercontent.com/a/default-user=s128",
      "userId": "114698943800149961987"
     },
     "user_tz": 0
    },
    "id": "4WL66WDBaoNy",
    "outputId": "e50f1b65-32b6-4547-dac7-3c04c2216c32"
   },
   "outputs": [
    {
     "name": "stdout",
     "output_type": "stream",
     "text": [
      "Train on 60000 samples, validate on 10000 samples\n",
      "Epoch 1/10\n",
      "60000/60000 [==============================] - 11s 181us/step - loss: 0.1405 - val_loss: 0.0955\n",
      "Epoch 2/10\n",
      "60000/60000 [==============================] - 10s 160us/step - loss: 0.0908 - val_loss: 0.0839\n",
      "Epoch 3/10\n",
      "46592/60000 [======================>.......] - ETA: 2s - loss: 0.084660000/60000 [==============================] - 10s 160us/step - loss: 0.0842 - val_loss: 0.0799\n",
      "Epoch 4/10\n",
      "60000/60000 [==============================] - 9s 158us/step - loss: 0.0810 - val_loss: 0.0793\n",
      "Epoch 5/10\n",
      "60000/60000 [==============================] - 10s 159us/step - loss: 0.0790 - val_loss: 0.0782\n",
      "Epoch 6/10\n",
      "24704/60000 [===========>..................] - ETA: 5s - loss: 0.078160000/60000 [==============================] - 10s 159us/step - loss: 0.0776 - val_loss: 0.0757\n",
      "Epoch 7/10\n",
      "60000/60000 [==============================] - 9s 158us/step - loss: 0.0765 - val_loss: 0.0741\n",
      "Epoch 8/10\n",
      "60000/60000 [==============================] - 9s 158us/step - loss: 0.0756 - val_loss: 0.0743\n",
      "Epoch 9/10\n",
      "20480/60000 [=========>....................] - ETA: 5s - loss: 0.074960000/60000 [==============================] - 9s 158us/step - loss: 0.0750 - val_loss: 0.0751\n",
      "Epoch 10/10\n",
      "60000/60000 [==============================] - 9s 158us/step - loss: 0.0745 - val_loss: 0.0739\n"
     ]
    }
   ],
   "source": [
    "encoded_imgs_6, decoded_imgs_6 = cnn_denoising_model(x_train_cnn, x_test_cnn, x_train_upscaled, x_test_upscaled, epochs=10)"
   ]
  },
  {
   "cell_type": "code",
   "execution_count": 162,
   "metadata": {
    "colab": {
     "autoexec": {
      "startup": false,
      "wait_interval": 0
     },
     "base_uri": "https://localhost:8080/",
     "height": 228,
     "output_extras": [
      {
       "item_id": 1
      }
     ]
    },
    "colab_type": "code",
    "executionInfo": {
     "elapsed": 1624,
     "status": "ok",
     "timestamp": 1519402506859,
     "user": {
      "displayName": "Mateusz Ochał",
      "photoUrl": "https://lh3.googleusercontent.com/a/default-user=s128",
      "userId": "114698943800149961987"
     },
     "user_tz": 0
    },
    "id": "6kDtBUsSLsM2",
    "outputId": "e1901b92-162f-4ece-fec1-e35a8e45bb59"
   },
   "outputs": [
    {
     "data": {
      "image/png": "[encoded data removed]",
      "text/plain": [
       "<matplotlib.figure.Figure at 0x7f34d73e9630>"
      ]
     },
     "metadata": {
      "tags": []
     },
     "output_type": "display_data"
    }
   ],
   "source": [
    "draw_decoded_images(x_test_upscaled, decoded_imgs_6)\n",
    "# Original vs Upscaled"
   ]
  },
  {
   "cell_type": "code",
   "execution_count": 0,
   "metadata": {
    "colab": {
     "autoexec": {
      "startup": false,
      "wait_interval": 0
     }
    },
    "colab_type": "code",
    "id": "WUcLEGOH0QCY"
   },
   "outputs": [],
   "source": [
    "def cnn_upscaler(x_train, x_test, x_train_downscaled, x_test_downscaled, input_image_dim=(14, 14, 1), output_image_dim=(28, 28, 1), epochs=50):\n",
    "  from keras.layers import Input, Dense, Conv2D, MaxPooling2D, UpSampling2D\n",
    "  from keras.models import Sequential\n",
    "  from keras import backend as K\n",
    "  \n",
    "  conv1 = Conv2D(14, (3, 3), activation='relu', padding='same', input_shape=input_image_dim)\n",
    "  upsa1 = UpSampling2D((2, 2))\n",
    "  upscaled = Conv2D(1, (3, 3), activation='sigmoid', padding='same')\n",
    "\n",
    "  upscaler = Sequential([conv1, upsa1, upscaled])\n",
    "  \n",
    "  upscaler.compile(optimizer='adadelta', loss='binary_crossentropy')\n",
    "  \n",
    "  upscaler.fit(x_train_downscaled, x_train,\n",
    "                  epochs=epochs,\n",
    "                  batch_size=128,\n",
    "                  shuffle=True,\n",
    "                  validation_data=(x_test_downscaled, x_test))\n",
    "  \n",
    "  upscaled_images = upscaler.predict(x_test_downscaled)\n",
    "  return upscaled_images"
   ]
  },
  {
   "cell_type": "code",
   "execution_count": 168,
   "metadata": {
    "colab": {
     "autoexec": {
      "startup": false,
      "wait_interval": 0
     },
     "base_uri": "https://localhost:8080/",
     "height": 1754,
     "output_extras": [
      {
       "item_id": 77
      },
      {
       "item_id": 158
      },
      {
       "item_id": 234
      },
      {
       "item_id": 267
      },
      {
       "item_id": 286
      },
      {
       "item_id": 306
      },
      {
       "item_id": 326
      },
      {
       "item_id": 346
      },
      {
       "item_id": 365
      },
      {
       "item_id": 385
      },
      {
       "item_id": 405
      },
      {
       "item_id": 420
      },
      {
       "item_id": 427
      }
     ]
    },
    "colab_type": "code",
    "executionInfo": {
     "elapsed": 238286,
     "status": "ok",
     "timestamp": 1519403911688,
     "user": {
      "displayName": "Mateusz Ochał",
      "photoUrl": "https://lh3.googleusercontent.com/a/default-user=s128",
      "userId": "114698943800149961987"
     },
     "user_tz": 0
    },
    "id": "Jn-GQhEc6T1X",
    "outputId": "f1a5e3b3-51a6-4a20-b54b-fe0454bc673a"
   },
   "outputs": [
    {
     "name": "stdout",
     "output_type": "stream",
     "text": [
      "Train on 60000 samples, validate on 10000 samples\n",
      "Epoch 1/50\n",
      "60000/60000 [==============================] - 7s 109us/step - loss: 0.1289 - val_loss: 0.0756\n",
      "Epoch 2/50\n",
      "60000/60000 [==============================] - 5s 78us/step - loss: 0.0741 - val_loss: 0.0721\n",
      "Epoch 3/50\n",
      "60000/60000 [==============================] - 5s 78us/step - loss: 0.0722 - val_loss: 0.0711\n",
      "Epoch 4/50\n",
      "60000/60000 [==============================] - 5s 78us/step - loss: 0.0716 - val_loss: 0.0706\n",
      "Epoch 5/50\n",
      " 6016/60000 [==>...........................] - ETA: 4s - loss: 0.071360000/60000 [==============================] - 5s 78us/step - loss: 0.0712 - val_loss: 0.0703\n",
      "Epoch 6/50\n",
      "60000/60000 [==============================] - 5s 78us/step - loss: 0.0709 - val_loss: 0.0701\n",
      "Epoch 7/50\n",
      "60000/60000 [==============================] - 5s 78us/step - loss: 0.0707 - val_loss: 0.0699\n",
      "Epoch 8/50\n",
      "60000/60000 [==============================] - 5s 78us/step - loss: 0.0705 - val_loss: 0.0697\n",
      "Epoch 9/50\n",
      "38400/60000 [==================>...........] - ETA: 1s - loss: 0.070360000/60000 [==============================] - 5s 79us/step - loss: 0.0703 - val_loss: 0.0695\n",
      "Epoch 10/50\n",
      "60000/60000 [==============================] - 5s 78us/step - loss: 0.0702 - val_loss: 0.0695\n",
      "Epoch 11/50\n",
      "60000/60000 [==============================] - 5s 79us/step - loss: 0.0700 - val_loss: 0.0693\n",
      "Epoch 12/50\n",
      "60000/60000 [==============================] - 5s 79us/step - loss: 0.0699 - val_loss: 0.0691\n",
      "Epoch 13/50\n",
      "41856/60000 [===================>..........] - ETA: 1s - loss: 0.069760000/60000 [==============================] - 5s 78us/step - loss: 0.0697 - val_loss: 0.0690\n",
      "Epoch 14/50\n",
      "60000/60000 [==============================] - 5s 78us/step - loss: 0.0696 - val_loss: 0.0689\n",
      "Epoch 15/50\n",
      "60000/60000 [==============================] - 5s 77us/step - loss: 0.0695 - val_loss: 0.0688\n",
      "Epoch 16/50\n",
      "60000/60000 [==============================] - 5s 77us/step - loss: 0.0694 - val_loss: 0.0687\n",
      "Epoch 17/50\n",
      "44288/60000 [=====================>........] - ETA: 1s - loss: 0.069460000/60000 [==============================] - 5s 78us/step - loss: 0.0693 - val_loss: 0.0687\n",
      "Epoch 18/50\n",
      "60000/60000 [==============================] - 5s 78us/step - loss: 0.0692 - val_loss: 0.0686\n",
      "Epoch 19/50\n",
      "60000/60000 [==============================] - 5s 78us/step - loss: 0.0692 - val_loss: 0.0685\n",
      "Epoch 20/50\n",
      "60000/60000 [==============================] - 5s 78us/step - loss: 0.0691 - val_loss: 0.0685\n",
      "Epoch 21/50\n",
      "43264/60000 [====================>.........] - ETA: 1s - loss: 0.068960000/60000 [==============================] - 5s 77us/step - loss: 0.0690 - val_loss: 0.0684\n",
      "Epoch 22/50\n",
      "60000/60000 [==============================] - 5s 78us/step - loss: 0.0690 - val_loss: 0.0683\n",
      "Epoch 23/50\n",
      "60000/60000 [==============================] - 5s 78us/step - loss: 0.0689 - val_loss: 0.0683\n",
      "Epoch 24/50\n",
      "60000/60000 [==============================] - 5s 77us/step - loss: 0.0689 - val_loss: 0.0682\n",
      "Epoch 25/50\n",
      "44416/60000 [=====================>........] - ETA: 1s - loss: 0.068860000/60000 [==============================] - 5s 78us/step - loss: 0.0688 - val_loss: 0.0682\n",
      "Epoch 26/50\n",
      "60000/60000 [==============================] - 5s 78us/step - loss: 0.0688 - val_loss: 0.0682\n",
      "Epoch 27/50\n",
      "60000/60000 [==============================] - 5s 78us/step - loss: 0.0687 - val_loss: 0.0681\n",
      "Epoch 28/50\n",
      "60000/60000 [==============================] - 5s 78us/step - loss: 0.0687 - val_loss: 0.0680\n",
      "Epoch 29/50\n",
      "43008/60000 [====================>.........] - ETA: 1s - loss: 0.068760000/60000 [==============================] - 5s 78us/step - loss: 0.0687 - val_loss: 0.0681\n",
      "Epoch 30/50\n",
      "60000/60000 [==============================] - 5s 78us/step - loss: 0.0686 - val_loss: 0.0680\n",
      "Epoch 31/50\n",
      "60000/60000 [==============================] - 5s 80us/step - loss: 0.0686 - val_loss: 0.0680\n",
      "Epoch 32/50\n",
      "60000/60000 [==============================] - 5s 79us/step - loss: 0.0686 - val_loss: 0.0679\n",
      "Epoch 33/50\n",
      "42368/60000 [====================>.........] - ETA: 1s - loss: 0.068560000/60000 [==============================] - 5s 79us/step - loss: 0.0685 - val_loss: 0.0679\n",
      "Epoch 34/50\n",
      "60000/60000 [==============================] - 5s 79us/step - loss: 0.0685 - val_loss: 0.0679\n",
      "Epoch 35/50\n",
      "60000/60000 [==============================] - 5s 79us/step - loss: 0.0685 - val_loss: 0.0678\n",
      "Epoch 36/50\n",
      "60000/60000 [==============================] - 5s 79us/step - loss: 0.0684 - val_loss: 0.0678\n",
      "Epoch 37/50\n",
      "42752/60000 [====================>.........] - ETA: 1s - loss: 0.068460000/60000 [==============================] - 5s 79us/step - loss: 0.0684 - val_loss: 0.0678\n",
      "Epoch 38/50\n",
      "60000/60000 [==============================] - 5s 78us/step - loss: 0.0684 - val_loss: 0.0678\n",
      "Epoch 39/50\n",
      "60000/60000 [==============================] - 5s 79us/step - loss: 0.0684 - val_loss: 0.0677\n",
      "Epoch 40/50\n",
      "60000/60000 [==============================] - 5s 77us/step - loss: 0.0684 - val_loss: 0.0677\n",
      "Epoch 41/50\n",
      "44160/60000 [=====================>........] - ETA: 1s - loss: 0.068360000/60000 [==============================] - 5s 78us/step - loss: 0.0683 - val_loss: 0.0677\n",
      "Epoch 42/50\n",
      "60000/60000 [==============================] - 5s 78us/step - loss: 0.0683 - val_loss: 0.0677\n",
      "Epoch 43/50\n",
      "60000/60000 [==============================] - 5s 78us/step - loss: 0.0683 - val_loss: 0.0677\n",
      "Epoch 44/50\n",
      "60000/60000 [==============================] - 5s 78us/step - loss: 0.0683 - val_loss: 0.0677\n",
      "Epoch 45/50\n",
      "44544/60000 [=====================>........] - ETA: 1s - loss: 0.068360000/60000 [==============================] - 5s 78us/step - loss: 0.0682 - val_loss: 0.0677\n",
      "Epoch 46/50\n",
      "60000/60000 [==============================] - 5s 77us/step - loss: 0.0682 - val_loss: 0.0676\n",
      "Epoch 47/50\n",
      "60000/60000 [==============================] - 5s 77us/step - loss: 0.0682 - val_loss: 0.0676\n",
      "Epoch 48/50\n",
      "60000/60000 [==============================] - 5s 78us/step - loss: 0.0682 - val_loss: 0.0677\n",
      "Epoch 49/50\n",
      "43520/60000 [====================>.........] - ETA: 1s - loss: 0.068160000/60000 [==============================] - 5s 79us/step - loss: 0.0682 - val_loss: 0.0675\n",
      "Epoch 50/50\n",
      "60000/60000 [==============================] - 5s 78us/step - loss: 0.0681 - val_loss: 0.0675\n"
     ]
    }
   ],
   "source": [
    "upscaled_images = cnn_upscaler(x_train_cnn, x_test_cnn, x_train_downscaled, x_test_downscaled)"
   ]
  },
  {
   "cell_type": "code",
   "execution_count": 169,
   "metadata": {
    "colab": {
     "autoexec": {
      "startup": false,
      "wait_interval": 0
     },
     "base_uri": "https://localhost:8080/",
     "height": 228,
     "output_extras": [
      {
       "item_id": 1
      }
     ]
    },
    "colab_type": "code",
    "executionInfo": {
     "elapsed": 1620,
     "status": "ok",
     "timestamp": 1519404044718,
     "user": {
      "displayName": "Mateusz Ochał",
      "photoUrl": "https://lh3.googleusercontent.com/a/default-user=s128",
      "userId": "114698943800149961987"
     },
     "user_tz": 0
    },
    "id": "P-RoeyYThHCr",
    "outputId": "b65e447b-d6c3-4249-9ad5-b45ffb5cd3bd"
   },
   "outputs": [
    {
     "data": {
      "image/png": "[encoded data removed]",
      "text/plain": [
       "<matplotlib.figure.Figure at 0x7f34d5bbbeb8>"
      ]
     },
     "metadata": {
      "tags": []
     },
     "output_type": "display_data"
    }
   ],
   "source": [
    "draw_decoded_images(x_test_cnn, upscaled_images)"
   ]
  }
 ],
 "metadata": {
  "accelerator": "GPU",
  "colab": {
   "default_view": {},
   "name": "Keras-blog.ipynb",
   "provenance": [],
   "version": "0.3.2",
   "views": {}
  },
  "kernelspec": {
   "display_name": "Python 3",
   "language": "python",
   "name": "python3"
  },
  "language_info": {
   "codemirror_mode": {
    "name": "ipython",
    "version": 3
   },
   "file_extension": ".py",
   "mimetype": "text/x-python",
   "name": "python",
   "nbconvert_exporter": "python",
   "pygments_lexer": "ipython3",
   "version": "3.5.4"
  }
 },
 "nbformat": 4,
 "nbformat_minor": 1
}
